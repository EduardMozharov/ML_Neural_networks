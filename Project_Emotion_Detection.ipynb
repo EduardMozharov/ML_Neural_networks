{
  "nbformat": 4,
  "nbformat_minor": 0,
  "metadata": {
    "colab": {
      "provenance": [],
      "authorship_tag": "ABX9TyO5ykchb/L6n2FxD74I842H",
      "include_colab_link": true
    },
    "kernelspec": {
      "name": "python3",
      "display_name": "Python 3"
    },
    "language_info": {
      "name": "python"
    }
  },
  "cells": [
    {
      "cell_type": "markdown",
      "metadata": {
        "id": "view-in-github",
        "colab_type": "text"
      },
      "source": [
        "<a href=\"https://colab.research.google.com/github/EduardMozharov/ML_Neural_networks/blob/main/Project_Emotion_Detection.ipynb\" target=\"_parent\"><img src=\"https://colab.research.google.com/assets/colab-badge.svg\" alt=\"Open In Colab\"/></a>"
      ]
    },
    {
      "cell_type": "markdown",
      "source": [
        "#Project \"Emotion Detection\"\n",
        "Итоговая работа курса SKILLBOX:  \n",
        "Data Science. ML. Средний уровень (Нейронны сети))"
      ],
      "metadata": {
        "id": "6-rtcvZC8QG4"
      }
    },
    {
      "cell_type": "markdown",
      "source": [
        "# Задание\n",
        "**Цель** - реализовать нейронную сеть, распознающую эмоции\n",
        "\n",
        "**Задачи:**\n",
        "1. Работа требует реализации алгоритма, с помощью которого будет происходить заданная классификация. Приветствуется использование архитектур свёрточных нейронных сетей, разобранных во время теоретических занятий. Время инференса сети на Google Colab не должно превышать 0,33 секунды (3 кадра в секунду).\n",
        "\n",
        "2. Создать скрипт, который будет работать с их веб-камерами и выводить на экран текущую эмоцию.\n",
        "\n",
        "\n",
        "**Дополнительно:**  \n",
        "1. Используйте подходы по искусственному увеличению датасета для обучения, а именно — аргументации, рассмотренные в курсе.\n",
        "2. Используйте продвинутые техники обучения, такие как finetuning и другие, рассмотренные в курсе.\n",
        "3. Пишите структурный код (основная логика кода должна быть вынесена в классы/методы/функции + осмысленный нейминг сущностей и комментарии).\n",
        "4. Проведите эксперименты с valence-arousal разложением эмоций, когда модель обучается не на самих эмоциях, а на их разложении по этим двум компонентам. Информация о подобном разложении есть в дополнительных материалах.\n",
        "\n",
        " \n",
        "Работающий прототип из пункта «Улучшение и дополнения к заданию» прибавляет один балл к итоговой оценке и добавляет в портфолио ценный ML-проект.\n",
        "\n",
        "\n"
      ],
      "metadata": {
        "id": "QGJ7TyGF7J-V"
      }
    },
    {
      "cell_type": "markdown",
      "source": [
        "# 1 Загрузим необходимые библиотеки"
      ],
      "metadata": {
        "id": "lFYqw13S8N6S"
      }
    },
    {
      "cell_type": "code",
      "source": [
        "DO_IT = True # Выполнять ли особые части кода"
      ],
      "metadata": {
        "id": "_GpsIZFfNN1h"
      },
      "execution_count": null,
      "outputs": []
    },
    {
      "cell_type": "code",
      "source": [
        "!pip install livelossplot\n",
        "\n",
        "# Для работы оптимизатора TensorRT может потребоваться предыдущая версия tensorflow\n",
        "#!pip install -U tensorflow==2.7.0\n",
        "#!pip install keras==2.6.*"
      ],
      "metadata": {
        "id": "HgV-Yz4LDJRe"
      },
      "execution_count": null,
      "outputs": []
    },
    {
      "cell_type": "code",
      "source": [
        "import numpy as np\n",
        "import pandas as pd\n",
        "import matplotlib.pyplot as plt\n",
        "import os\n",
        "\n",
        "import tensorflow as tf\n",
        "print('TensorFlow version:', tf.__version__)\n",
        "from livelossplot.tf_keras  import PlotLossesCallback\n",
        "\n",
        "import timeit"
      ],
      "metadata": {
        "id": "WjdfMLtG7Fbq",
        "colab": {
          "base_uri": "https://localhost:8080/"
        },
        "outputId": "3d0c79d2-b627-4330-b3a3-4edabe706bde"
      },
      "execution_count": 13,
      "outputs": [
        {
          "output_type": "stream",
          "name": "stdout",
          "text": [
            "TensorFlow version: 2.9.2\n"
          ]
        }
      ]
    },
    {
      "cell_type": "markdown",
      "source": [],
      "metadata": {
        "id": "5_mOHFyMFHi6"
      }
    },
    {
      "cell_type": "markdown",
      "source": [
        "#2. Загрузим данные и рассмотрим их"
      ],
      "metadata": {
        "id": "ry-ZzkcCDEz0"
      }
    },
    {
      "cell_type": "code",
      "source": [
        "from google.colab import drive\n",
        "drive.mount('/content/drive/')"
      ],
      "metadata": {
        "id": "b0fDDmOa7Fe1",
        "colab": {
          "base_uri": "https://localhost:8080/"
        },
        "outputId": "6e2b434e-eba2-468e-b871-2d339d26823e"
      },
      "execution_count": 1,
      "outputs": [
        {
          "output_type": "stream",
          "name": "stdout",
          "text": [
            "Mounted at /content/drive/\n"
          ]
        }
      ]
    },
    {
      "cell_type": "code",
      "source": [
        "# Один раз загрузим и разархивируем данные на личный диск,\n",
        "# чтобы каждый раз заново не загружать данные\n",
        "path = '/content/drive/MyDrive/SKILLBOX/FinalWorks/ML/'\n",
        "os.chdir(path)\n",
        "!unzip -q train.zip\n",
        "!unzip -q test_kaggle.zip"
      ],
      "metadata": {
        "id": "ySo-LjBxIEuP"
      },
      "execution_count": null,
      "outputs": []
    },
    {
      "cell_type": "code",
      "source": [],
      "metadata": {
        "id": "bNQYE2-pJkLx"
      },
      "execution_count": null,
      "outputs": []
    },
    {
      "cell_type": "markdown",
      "source": [
        "**image_path** - строка, являющаюся путем до изображения в случае обучения или названием изображения в случае теста  \n",
        "**emotion** - строка, характеризующая эмоцию  \n",
        "\n",
        "  \n",
        "В данном задании требуется предсказать 9 базовых эмоций, таких как:  \n",
        "* **neutral** - нейтральная эмоция\n",
        "* **anger**- гнев, злость\n",
        "* **contempt** - презрение\n",
        "* **disgust** - отвращение\n",
        "* **fear** - страх\n",
        "* **happy** - веселый\n",
        "* **sad** - грусть\n",
        "* **surprise** - удивленность\n",
        "* **uncertain** - неуверенность"
      ],
      "metadata": {
        "id": "8tGSh7qfG7SH"
      }
    },
    {
      "cell_type": "code",
      "source": [],
      "metadata": {
        "id": "gwIE259M7Fj1"
      },
      "execution_count": null,
      "outputs": []
    },
    {
      "cell_type": "markdown",
      "source": [
        "#3. Модель"
      ],
      "metadata": {
        "id": "Hg_Jy99XDZ24"
      }
    },
    {
      "cell_type": "markdown",
      "source": [
        "В ходе выполнения работы придерживаемся следующих правил по оптимизации времения выполнения сети:\n",
        "1) Оптимизация модели при обучении:\n",
        "   * 1.1)  От простой модели к сложной.\n",
        "   * 1.2) Не заставлять учить то, что задается явно.\n",
        "   * 1.3) Понизить ширину сети за счет Conv(1х1).\n",
        "   * 1.4) Заменить Conv+Pool2D на Strided Conv.\n",
        "   * 1.5) Использовать активацию Relu по возможности.\n",
        "   * 1.6) Количество карт признаков делать кратным 8.\n",
        "   * 1.7) Применить поканальную сепарабельную свертку (Depth-wise separable Conv).\n",
        "   * 1.8) Применить Прореживание (Puring).\n",
        "   * 1.9) Другое... \n",
        "\n",
        "2) Оптимизация модели после обучения: с помощью TensorRT"
      ],
      "metadata": {
        "id": "efyS1Ka4FQms"
      }
    },
    {
      "cell_type": "code",
      "source": [],
      "metadata": {
        "id": "s7Sflvsp7Fmy"
      },
      "execution_count": null,
      "outputs": []
    },
    {
      "cell_type": "code",
      "source": [],
      "metadata": {
        "id": "miMwc8x07FpI"
      },
      "execution_count": null,
      "outputs": []
    },
    {
      "cell_type": "code",
      "source": [],
      "metadata": {
        "id": "n9lLGVFZE1vw"
      },
      "execution_count": null,
      "outputs": []
    },
    {
      "cell_type": "code",
      "source": [
        "\n",
        "\n"
      ],
      "metadata": {
        "id": "4wB1iK_pE2HK"
      },
      "execution_count": null,
      "outputs": []
    },
    {
      "cell_type": "markdown",
      "source": [
        "#3.1 Проверим время работы одного прохода нейронной сети"
      ],
      "metadata": {
        "id": "1fWKQoK0E5e-"
      }
    },
    {
      "cell_type": "code",
      "source": [
        "%%timeit -n 10 -r 10\n",
        "q_opt = model_opt_3(np.random.rand(1, inp_size, inp_size, 3).astype(np.float32))"
      ],
      "metadata": {
        "id": "lRPmyw7kE9NS"
      },
      "execution_count": null,
      "outputs": []
    },
    {
      "cell_type": "markdown",
      "source": [
        "#4. Обучение модели"
      ],
      "metadata": {
        "id": "dZBjOklbDjjN"
      }
    },
    {
      "cell_type": "code",
      "source": [],
      "metadata": {
        "id": "pxvp4MIqDn01"
      },
      "execution_count": null,
      "outputs": []
    },
    {
      "cell_type": "markdown",
      "source": [
        "#5. Оптимизация модели"
      ],
      "metadata": {
        "id": "GzjWZ26lFIpI"
      }
    },
    {
      "cell_type": "code",
      "source": [],
      "metadata": {
        "id": "-0BmUAdcFMQi"
      },
      "execution_count": null,
      "outputs": []
    }
  ]
}