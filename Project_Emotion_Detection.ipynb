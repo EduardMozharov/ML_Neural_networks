{
  "cells": [
    {
      "cell_type": "markdown",
      "metadata": {
        "id": "view-in-github",
        "colab_type": "text"
      },
      "source": [
        "<a href=\"https://colab.research.google.com/github/EduardMozharov/ML_Neural_networks/blob/main/Project_Emotion_Detection.ipynb\" target=\"_parent\"><img src=\"https://colab.research.google.com/assets/colab-badge.svg\" alt=\"Open In Colab\"/></a>"
      ]
    },
    {
      "cell_type": "markdown",
      "metadata": {
        "id": "6-rtcvZC8QG4"
      },
      "source": [
        "#Project \"Emotion Detection\"\n",
        "Итоговая работа курса SKILLBOX:  \n",
        "Data Science. ML. Средний уровень (Нейронны сети))"
      ]
    },
    {
      "cell_type": "markdown",
      "metadata": {
        "id": "QGJ7TyGF7J-V"
      },
      "source": [
        "# Задание\n",
        "**Цель** - реализовать нейронную сеть, распознающую эмоции\n",
        "\n",
        "**Задачи:**\n",
        "1. Работа требует реализации алгоритма, с помощью которого будет происходить заданная классификация. Приветствуется использование архитектур свёрточных нейронных сетей, разобранных во время теоретических занятий. Время инференса сети на Google Colab не должно превышать 0,33 секунды (3 кадра в секунду).\n",
        "\n",
        "2. Создать скрипт, который будет работать с их веб-камерами и выводить на экран текущую эмоцию.\n",
        "\n",
        "\n",
        "**Дополнительно:**  \n",
        "1. Используйте подходы по искусственному увеличению датасета для обучения, а именно — аргументации, рассмотренные в курсе.\n",
        "2. Используйте продвинутые техники обучения, такие как finetuning и другие, рассмотренные в курсе.\n",
        "3. Пишите структурный код (основная логика кода должна быть вынесена в классы/методы/функции + осмысленный нейминг сущностей и комментарии).\n",
        "4. Проведите эксперименты с valence-arousal разложением эмоций, когда модель обучается не на самих эмоциях, а на их разложении по этим двум компонентам. Информация о подобном разложении есть в дополнительных материалах.\n",
        "\n",
        " \n",
        "Работающий прототип из пункта «Улучшение и дополнения к заданию» прибавляет один балл к итоговой оценке и добавляет в портфолио ценный ML-проект.\n",
        "\n",
        "\n"
      ]
    },
    {
      "cell_type": "markdown",
      "metadata": {
        "id": "r1l-0ga0dVuO"
      },
      "source": [
        "## Отправка результата на проверку\n",
        "Метрика данного соревнования categorisation accuracy.\n",
        "\n",
        "Формат решения\n",
        "Для каждого изображения в тестовом датасете, файл с решением должен содержать две колонки: image_path и emotion. image_path -- название изображение. Имеет формат k.jpg, где k натуральное число от 0 до 4999. emotion -- название предсказанной эмоции для данного изображение. Все представленные в задании эмоции вы можете найти на странице с описанием данных.\n",
        "\n",
        "Итоговый csv файл должен иметь названия колонок и иметь структуру, как представлено ниже\n",
        "\n",
        "image_path,emotion  \n",
        "0.jpg,neutral  \n",
        "1.jpg,angry  \n",
        "2.jpg,sad  \n",
        "3.jpg,contempt  "
      ]
    },
    {
      "cell_type": "markdown",
      "metadata": {
        "id": "lFYqw13S8N6S"
      },
      "source": [
        "# 1 Загрузим необходимые библиотеки"
      ]
    },
    {
      "cell_type": "code",
      "execution_count": 1,
      "metadata": {
        "id": "_GpsIZFfNN1h"
      },
      "outputs": [],
      "source": [
        "DO_IT = False # Выполнять ли особые части кода"
      ]
    },
    {
      "cell_type": "code",
      "execution_count": null,
      "metadata": {
        "id": "HgV-Yz4LDJRe"
      },
      "outputs": [],
      "source": [
        "!pip install livelossplot\n",
        "\n",
        "# Для работы оптимизатора TensorRT может потребоваться предыдущая версия tensorflow\n",
        "#!pip install -U tensorflow==2.7.0\n",
        "#!pip install keras==2.6.*"
      ]
    },
    {
      "cell_type": "code",
      "execution_count": 3,
      "metadata": {
        "colab": {
          "base_uri": "https://localhost:8080/"
        },
        "id": "WjdfMLtG7Fbq",
        "outputId": "c54b1924-e128-45c6-ab50-e50e3e89ef3e"
      },
      "outputs": [
        {
          "output_type": "stream",
          "name": "stdout",
          "text": [
            "TensorFlow version: 2.11.0\n"
          ]
        }
      ],
      "source": [
        "import numpy as np\n",
        "import pandas as pd\n",
        "import matplotlib.pyplot as plt\n",
        "import os\n",
        "import random\n",
        "\n",
        "import tensorflow as tf\n",
        "print('TensorFlow version:', tf.__version__)\n",
        "from tensorflow.keras.preprocessing.image import ImageDataGenerator\n",
        "from tensorflow.keras.preprocessing import image\n",
        "from livelossplot.tf_keras  import PlotLossesCallback\n",
        "\n",
        "import timeit"
      ]
    },
    {
      "cell_type": "markdown",
      "metadata": {
        "id": "5_mOHFyMFHi6"
      },
      "source": []
    },
    {
      "cell_type": "markdown",
      "metadata": {
        "id": "ry-ZzkcCDEz0"
      },
      "source": [
        "#2. Загрузим данные и рассмотрим их"
      ]
    },
    {
      "cell_type": "markdown",
      "metadata": {
        "id": "5IIJnMrPGlbh"
      },
      "source": [
        "## 2.1 Загрузим рисунки"
      ]
    },
    {
      "cell_type": "code",
      "execution_count": 4,
      "metadata": {
        "colab": {
          "base_uri": "https://localhost:8080/"
        },
        "id": "b0fDDmOa7Fe1",
        "outputId": "81679f33-7d9b-409e-aece-66c67afded75"
      },
      "outputs": [
        {
          "output_type": "stream",
          "name": "stdout",
          "text": [
            "Mounted at /content/drive/\n"
          ]
        }
      ],
      "source": [
        "from google.colab import drive\n",
        "drive.mount('/content/drive/')"
      ]
    },
    {
      "cell_type": "code",
      "execution_count": 5,
      "metadata": {
        "id": "ySo-LjBxIEuP"
      },
      "outputs": [],
      "source": [
        "# Один раз загрузим и разархивируем данные на личный диск,\n",
        "# чтобы каждый раз заново не загружать данные\n",
        "path = '/content/drive/MyDrive/SKILLBOX/FinalWorks/ML/'\n",
        "#os.chdir(path)\n",
        "#!unzip -q train.zip\n",
        "#!unzip -q test_kaggle.zip"
      ]
    },
    {
      "cell_type": "markdown",
      "metadata": {
        "id": "n5cRRadcGtXU"
      },
      "source": [
        "## 2.2. Загрузим табличные данные и рассмотрим их"
      ]
    },
    {
      "cell_type": "code",
      "execution_count": 6,
      "metadata": {
        "colab": {
          "base_uri": "https://localhost:8080/",
          "height": 224
        },
        "id": "bNQYE2-pJkLx",
        "outputId": "3c743de1-4947-4d16-94e8-10b0a4e80dbf"
      },
      "outputs": [
        {
          "output_type": "stream",
          "name": "stdout",
          "text": [
            "Количество строк данных 50046\n"
          ]
        },
        {
          "output_type": "execute_result",
          "data": {
            "text/plain": [
              "   Unnamed: 0              image_path emotion\n",
              "0           0     ./train/anger/0.jpg   anger\n",
              "1           1     ./train/anger/1.jpg   anger\n",
              "2           2    ./train/anger/10.jpg   anger\n",
              "3           3   ./train/anger/100.jpg   anger\n",
              "4           4  ./train/anger/1000.jpg   anger"
            ],
            "text/html": [
              "\n",
              "  <div id=\"df-9a294d1f-f197-4279-99e7-d458ad190948\">\n",
              "    <div class=\"colab-df-container\">\n",
              "      <div>\n",
              "<style scoped>\n",
              "    .dataframe tbody tr th:only-of-type {\n",
              "        vertical-align: middle;\n",
              "    }\n",
              "\n",
              "    .dataframe tbody tr th {\n",
              "        vertical-align: top;\n",
              "    }\n",
              "\n",
              "    .dataframe thead th {\n",
              "        text-align: right;\n",
              "    }\n",
              "</style>\n",
              "<table border=\"1\" class=\"dataframe\">\n",
              "  <thead>\n",
              "    <tr style=\"text-align: right;\">\n",
              "      <th></th>\n",
              "      <th>Unnamed: 0</th>\n",
              "      <th>image_path</th>\n",
              "      <th>emotion</th>\n",
              "    </tr>\n",
              "  </thead>\n",
              "  <tbody>\n",
              "    <tr>\n",
              "      <th>0</th>\n",
              "      <td>0</td>\n",
              "      <td>./train/anger/0.jpg</td>\n",
              "      <td>anger</td>\n",
              "    </tr>\n",
              "    <tr>\n",
              "      <th>1</th>\n",
              "      <td>1</td>\n",
              "      <td>./train/anger/1.jpg</td>\n",
              "      <td>anger</td>\n",
              "    </tr>\n",
              "    <tr>\n",
              "      <th>2</th>\n",
              "      <td>2</td>\n",
              "      <td>./train/anger/10.jpg</td>\n",
              "      <td>anger</td>\n",
              "    </tr>\n",
              "    <tr>\n",
              "      <th>3</th>\n",
              "      <td>3</td>\n",
              "      <td>./train/anger/100.jpg</td>\n",
              "      <td>anger</td>\n",
              "    </tr>\n",
              "    <tr>\n",
              "      <th>4</th>\n",
              "      <td>4</td>\n",
              "      <td>./train/anger/1000.jpg</td>\n",
              "      <td>anger</td>\n",
              "    </tr>\n",
              "  </tbody>\n",
              "</table>\n",
              "</div>\n",
              "      <button class=\"colab-df-convert\" onclick=\"convertToInteractive('df-9a294d1f-f197-4279-99e7-d458ad190948')\"\n",
              "              title=\"Convert this dataframe to an interactive table.\"\n",
              "              style=\"display:none;\">\n",
              "        \n",
              "  <svg xmlns=\"http://www.w3.org/2000/svg\" height=\"24px\"viewBox=\"0 0 24 24\"\n",
              "       width=\"24px\">\n",
              "    <path d=\"M0 0h24v24H0V0z\" fill=\"none\"/>\n",
              "    <path d=\"M18.56 5.44l.94 2.06.94-2.06 2.06-.94-2.06-.94-.94-2.06-.94 2.06-2.06.94zm-11 1L8.5 8.5l.94-2.06 2.06-.94-2.06-.94L8.5 2.5l-.94 2.06-2.06.94zm10 10l.94 2.06.94-2.06 2.06-.94-2.06-.94-.94-2.06-.94 2.06-2.06.94z\"/><path d=\"M17.41 7.96l-1.37-1.37c-.4-.4-.92-.59-1.43-.59-.52 0-1.04.2-1.43.59L10.3 9.45l-7.72 7.72c-.78.78-.78 2.05 0 2.83L4 21.41c.39.39.9.59 1.41.59.51 0 1.02-.2 1.41-.59l7.78-7.78 2.81-2.81c.8-.78.8-2.07 0-2.86zM5.41 20L4 18.59l7.72-7.72 1.47 1.35L5.41 20z\"/>\n",
              "  </svg>\n",
              "      </button>\n",
              "      \n",
              "  <style>\n",
              "    .colab-df-container {\n",
              "      display:flex;\n",
              "      flex-wrap:wrap;\n",
              "      gap: 12px;\n",
              "    }\n",
              "\n",
              "    .colab-df-convert {\n",
              "      background-color: #E8F0FE;\n",
              "      border: none;\n",
              "      border-radius: 50%;\n",
              "      cursor: pointer;\n",
              "      display: none;\n",
              "      fill: #1967D2;\n",
              "      height: 32px;\n",
              "      padding: 0 0 0 0;\n",
              "      width: 32px;\n",
              "    }\n",
              "\n",
              "    .colab-df-convert:hover {\n",
              "      background-color: #E2EBFA;\n",
              "      box-shadow: 0px 1px 2px rgba(60, 64, 67, 0.3), 0px 1px 3px 1px rgba(60, 64, 67, 0.15);\n",
              "      fill: #174EA6;\n",
              "    }\n",
              "\n",
              "    [theme=dark] .colab-df-convert {\n",
              "      background-color: #3B4455;\n",
              "      fill: #D2E3FC;\n",
              "    }\n",
              "\n",
              "    [theme=dark] .colab-df-convert:hover {\n",
              "      background-color: #434B5C;\n",
              "      box-shadow: 0px 1px 3px 1px rgba(0, 0, 0, 0.15);\n",
              "      filter: drop-shadow(0px 1px 2px rgba(0, 0, 0, 0.3));\n",
              "      fill: #FFFFFF;\n",
              "    }\n",
              "  </style>\n",
              "\n",
              "      <script>\n",
              "        const buttonEl =\n",
              "          document.querySelector('#df-9a294d1f-f197-4279-99e7-d458ad190948 button.colab-df-convert');\n",
              "        buttonEl.style.display =\n",
              "          google.colab.kernel.accessAllowed ? 'block' : 'none';\n",
              "\n",
              "        async function convertToInteractive(key) {\n",
              "          const element = document.querySelector('#df-9a294d1f-f197-4279-99e7-d458ad190948');\n",
              "          const dataTable =\n",
              "            await google.colab.kernel.invokeFunction('convertToInteractive',\n",
              "                                                     [key], {});\n",
              "          if (!dataTable) return;\n",
              "\n",
              "          const docLinkHtml = 'Like what you see? Visit the ' +\n",
              "            '<a target=\"_blank\" href=https://colab.research.google.com/notebooks/data_table.ipynb>data table notebook</a>'\n",
              "            + ' to learn more about interactive tables.';\n",
              "          element.innerHTML = '';\n",
              "          dataTable['output_type'] = 'display_data';\n",
              "          await google.colab.output.renderOutput(dataTable, element);\n",
              "          const docLink = document.createElement('div');\n",
              "          docLink.innerHTML = docLinkHtml;\n",
              "          element.appendChild(docLink);\n",
              "        }\n",
              "      </script>\n",
              "    </div>\n",
              "  </div>\n",
              "  "
            ]
          },
          "metadata": {},
          "execution_count": 6
        }
      ],
      "source": [
        "# Загрузим таблицу с описанием данных train\n",
        "df = pd.read_csv(path+'train.csv')\n",
        "n_data = df.shape[0]\n",
        "print('Количество строк данных', n_data)\n",
        "df.head()"
      ]
    },
    {
      "cell_type": "code",
      "execution_count": 7,
      "metadata": {
        "colab": {
          "base_uri": "https://localhost:8080/"
        },
        "id": "bd4_uq3fGMxS",
        "outputId": "ad96b6c4-971e-48ad-8b3f-68030edee7b7"
      },
      "outputs": [
        {
          "output_type": "stream",
          "name": "stdout",
          "text": [
            "Всего эмоций 9: ['anger' 'contempt' 'disgust' 'fear' 'happy' 'neutral' 'sad' 'surprise'\n",
            " 'uncertain'] \n"
          ]
        }
      ],
      "source": [
        "emotions = df.emotion.unique()\n",
        "n_emotions = emotions.shape[0]\n",
        "\n",
        "print(\"Всего эмоций {}: {} \".format(n_emotions, emotions))"
      ]
    },
    {
      "cell_type": "markdown",
      "metadata": {
        "id": "8tGSh7qfG7SH"
      },
      "source": [
        "**image_path** - строка, являющаюся путем до изображения в случае обучения или названием изображения в случае теста  \n",
        "**emotion** - строка, характеризующая эмоцию  \n",
        "\n",
        "  \n",
        "В данном задании требуется предсказать 9 базовых эмоций, таких как:  \n",
        "* **neutral** - нейтральная эмоция\n",
        "* **anger**- гнев, злость\n",
        "* **contempt** - презрение\n",
        "* **disgust** - отвращение\n",
        "* **fear** - страх\n",
        "* **happy** - веселый\n",
        "* **sad** - грусть\n",
        "* **surprise** - удивленность\n",
        "* **uncertain** - неуверенность"
      ]
    },
    {
      "cell_type": "code",
      "execution_count": 8,
      "metadata": {
        "colab": {
          "base_uri": "https://localhost:8080/"
        },
        "id": "oa2hdPBUIBqF",
        "outputId": "f87f8095-f3e3-4ef1-acd7-5ac8a1266d0f"
      },
      "outputs": [
        {
          "output_type": "execute_result",
          "data": {
            "text/plain": [
              "emotion\n",
              "anger        7022\n",
              "contempt     3085\n",
              "disgust      3155\n",
              "fear         5044\n",
              "happy        5955\n",
              "neutral      6795\n",
              "sad          6740\n",
              "surprise     6323\n",
              "uncertain    5927\n",
              "Name: image_path, dtype: int64"
            ]
          },
          "metadata": {},
          "execution_count": 8
        }
      ],
      "source": [
        "df_count = df.groupby('emotion').count()['image_path']\n",
        "df_count"
      ]
    },
    {
      "cell_type": "markdown",
      "metadata": {
        "id": "BVbrtcdmHj6h"
      },
      "source": [
        "## 2.3 Рассмотрим рисунки"
      ]
    },
    {
      "cell_type": "code",
      "execution_count": 9,
      "metadata": {
        "id": "YUc6rnpVHogt"
      },
      "outputs": [],
      "source": [
        "def show_img(img_ind=1):\n",
        "  img = plt.imread(path+df['image_path'][img_ind][2:])\n",
        "  plt.imshow(img)\n",
        "  plt.title(df['emotion'][img_ind])\n",
        "\n",
        "def show_random_test_img(n_img=10):\n",
        "    plt.figure(figsize=(20,10))\n",
        "    for i in range(n_img):\n",
        "        plt.subplot(4,8, i+1)\n",
        "        plt.xticks([])\n",
        "        plt.yticks([])\n",
        "        plt.grid(False)\n",
        "        img_ind = random.randint(0, n_data)\n",
        "        show_img(img_ind)"
      ]
    },
    {
      "cell_type": "code",
      "execution_count": 10,
      "metadata": {
        "colab": {
          "base_uri": "https://localhost:8080/",
          "height": 281
        },
        "id": "SKeKam6PKFIi",
        "outputId": "f8bca233-4f5d-4597-aac9-45f87ccbd39a"
      },
      "outputs": [
        {
          "output_type": "display_data",
          "data": {
            "text/plain": [
              "<Figure size 432x288 with 1 Axes>"
            ],
            "image/png": "[encoded data removed]"
          },
          "metadata": {
            "needs_background": "light"
          }
        }
      ],
      "source": [
        "show_img(1)"
      ]
    },
    {
      "cell_type": "code",
      "execution_count": 11,
      "metadata": {
        "id": "A-BGVBRPwxJa"
      },
      "outputs": [],
      "source": [
        "if DO_IT:\n",
        "  show_random_test_img(n_img=16)"
      ]
    },
    {
      "cell_type": "markdown",
      "source": [
        "# 3. Рассмотрим тестовые данные"
      ],
      "metadata": {
        "id": "0XFTNdovoKr2"
      }
    },
    {
      "cell_type": "code",
      "source": [
        "path_test = path + 'test_kaggle/'    # Путь к тестовым изображениям\n",
        "path_test_new = path_test + '1/'  # Путь, куда переместим данные\n",
        " \n",
        "'''\n",
        "get_files = os.listdir(path_test)\n",
        "for g in get_files:\n",
        "  if g != '1':\n",
        "    os.replace(path_test + g, path_test_new + g)\n",
        "'''"
      ],
      "metadata": {
        "colab": {
          "base_uri": "https://localhost:8080/",
          "height": 53
        },
        "id": "NsJocm50cNng",
        "outputId": "b114a93c-7f96-482d-fb32-f4e8da4b657e"
      },
      "execution_count": 12,
      "outputs": [
        {
          "output_type": "execute_result",
          "data": {
            "text/plain": [
              "\"\\nget_files = os.listdir(path_test)\\nfor g in get_files:\\n  if g != '1':\\n    os.replace(path_test + g, path_test_new + g)\\n\""
            ],
            "application/vnd.google.colaboratory.intrinsic+json": {
              "type": "string"
            }
          },
          "metadata": {},
          "execution_count": 12
        }
      ]
    },
    {
      "cell_type": "code",
      "source": [
        "def show_test_img(n_img=0):\n",
        "  img = plt.imread(path_test_new + str(n_img) + '.jpg')\n",
        "  plt.imshow(img)\n",
        "\n",
        "show_test_img(n_img=1)  "
      ],
      "metadata": {
        "id": "Dav7JgTOoeoQ",
        "colab": {
          "base_uri": "https://localhost:8080/",
          "height": 269
        },
        "outputId": "9bc1b5a0-3ff8-4872-d4ee-1209384e7349"
      },
      "execution_count": 13,
      "outputs": [
        {
          "output_type": "display_data",
          "data": {
            "text/plain": [
              "<Figure size 432x288 with 1 Axes>"
            ],
            "image/png": "[encoded data removed]"
          },
          "metadata": {
            "needs_background": "light"
          }
        }
      ]
    },
    {
      "cell_type": "markdown",
      "metadata": {
        "id": "p9RfjZxWwx3Q"
      },
      "source": [
        "# 4. Подготовка данных. Аугментация.\n"
      ]
    },
    {
      "cell_type": "code",
      "execution_count": 88,
      "metadata": {
        "id": "_oOAgSfBxW40"
      },
      "outputs": [],
      "source": [
        "BATCH_SIZE = 128\n",
        "IMG_SHAPE  = 64\n",
        "VAL_PART = 0.2    # Размер валидационной выборки от исходных данных \n",
        "RANDOM_STATE = 17"
      ]
    },
    {
      "cell_type": "markdown",
      "metadata": {
        "id": "zEvMksNjoglM"
      },
      "source": [
        "## 4.1 Разобью выборку на обучающую и валидационную"
      ]
    },
    {
      "cell_type": "code",
      "execution_count": 89,
      "metadata": {
        "id": "B3m20L_14f30"
      },
      "outputs": [],
      "source": [
        "df['img_path_new'] = df['image_path'].apply(lambda x: x[2:])"
      ]
    },
    {
      "cell_type": "code",
      "execution_count": 90,
      "metadata": {
        "colab": {
          "base_uri": "https://localhost:8080/"
        },
        "id": "AL2sjR6o85Hr",
        "outputId": "3c722b59-5c41-4314-b3b8-329483475635"
      },
      "outputs": [
        {
          "output_type": "stream",
          "name": "stdout",
          "text": [
            "Размер обучающей выборки: 40036\n",
            "Размер валидационной выборки: 10010\n"
          ]
        }
      ],
      "source": [
        "# Перемешаем случайным образом строки и выбирем \n",
        "df_train, df_val = np.split(df.sample(frac=1, random_state=RANDOM_STATE), [int((1-VAL_PART)*len(df))])\n",
        "\n",
        "print('Размер обучающей выборки:', len(df_train))\n",
        "print('Размер валидационной выборки:', len(df_val))"
      ]
    },
    {
      "cell_type": "code",
      "execution_count": 91,
      "metadata": {
        "colab": {
          "base_uri": "https://localhost:8080/"
        },
        "id": "52ti7pSDyBBj",
        "outputId": "83a72186-9015-45a4-f9aa-397dd6506f3b"
      },
      "outputs": [
        {
          "output_type": "stream",
          "name": "stdout",
          "text": [
            "emotion\n",
            "anger        5627\n",
            "contempt     2468\n",
            "disgust      2562\n",
            "fear         3940\n",
            "happy        4745\n",
            "neutral      5476\n",
            "sad          5377\n",
            "surprise     5064\n",
            "uncertain    4777\n",
            "Name: image_path, dtype: int64\n",
            "-------------------\n",
            "emotion\n",
            "anger        1395\n",
            "contempt      617\n",
            "disgust       593\n",
            "fear         1104\n",
            "happy        1210\n",
            "neutral      1319\n",
            "sad          1363\n",
            "surprise     1259\n",
            "uncertain    1150\n",
            "Name: image_path, dtype: int64\n"
          ]
        }
      ],
      "source": [
        "# Проверим, что попали разные эмоции в каждую из выборок\n",
        "print(df_train.groupby('emotion').count()['image_path'])\n",
        "print('-------------------')\n",
        "print(df_val.groupby('emotion').count()['image_path'])"
      ]
    },
    {
      "cell_type": "markdown",
      "metadata": {
        "id": "bNgYsOPss2pb"
      },
      "source": [
        "## 4.2 Выполним Аугментацию данных и создадим генераторы данных"
      ]
    },
    {
      "cell_type": "code",
      "execution_count": 93,
      "metadata": {
        "id": "Q7OZ8dTQzCa7"
      },
      "outputs": [],
      "source": [
        "# Выполним Аугментацию\n",
        "train_image_generator = ImageDataGenerator(\n",
        "      rescale=1./255,\n",
        "      rotation_range=10,  # максимальный угол поворота\n",
        "      width_shift_range=0.2, # смещение максимум на 20% ширины по горизонтали\n",
        "      height_shift_range=0.2, # смещение максимум на 20% высоты по вертикали\n",
        "      zoom_range=0.2, # картинка будет увеличена или уменьшена не более чем на 20% \n",
        "      horizontal_flip=False, # случайное отражение по горизонтали\n",
        "      vertical_flip=False, # случайное отражение по вертикали\n",
        "      fill_mode=\"nearest\", # чем заполнять пробелы -- сначала выберем черный цвет, а потом изменим на \"nearest\"\n",
        "      #cval=0,\n",
        "      ) \n",
        "\n",
        "val_image_generator = ImageDataGenerator(\n",
        "      rescale=1./255,\n",
        "      rotation_range=10,  # максимальный угол поворота\n",
        "      width_shift_range=0.2, # смещение максимум на 20% ширины по горизонтали\n",
        "      height_shift_range=0.2, # смещение максимум на 20% высоты по вертикали\n",
        "      zoom_range=0.2, # картинка будет увеличена или уменьшена не более чем на 20% \n",
        "      horizontal_flip=False, # случайное отражение по горизонтали\n",
        "      vertical_flip=False, # случайное отражение по вертикали\n",
        "      fill_mode=\"nearest\", # чем заполнять пробелы -- сначала выберем черный цвет, а потом изменим на \"nearest\"\n",
        "      #cval=0,\n",
        "      ) "
      ]
    },
    {
      "cell_type": "code",
      "execution_count": 94,
      "metadata": {
        "colab": {
          "base_uri": "https://localhost:8080/"
        },
        "id": "vLJ7Paj2w3fe",
        "outputId": "c52667d8-dc35-4c77-bcef-c5b39939e39b"
      },
      "outputs": [
        {
          "output_type": "stream",
          "name": "stdout",
          "text": [
            "Found 40036 validated image filenames belonging to 9 classes.\n",
            "CPU times: user 3.48 s, sys: 2.7 s, total: 6.18 s\n",
            "Wall time: 12.7 s\n"
          ]
        }
      ],
      "source": [
        "%%time\n",
        "# Создадим генератор на основе тренировочных данных\n",
        "train_data_gen = train_image_generator.flow_from_dataframe(df_train, directory=path,\n",
        "                                                           x_col='img_path_new', y_col='emotion',\n",
        "                                                           batch_size=BATCH_SIZE,\n",
        "                                                           shuffle=True,\n",
        "                                                           target_size=(IMG_SHAPE,IMG_SHAPE), \n",
        "                                                           class_mode='categorical')"
      ]
    },
    {
      "cell_type": "code",
      "execution_count": 95,
      "metadata": {
        "colab": {
          "base_uri": "https://localhost:8080/"
        },
        "id": "0EeXegEQiy0y",
        "outputId": "fe713f5a-c57a-4f94-bcdf-1fc191d6878b"
      },
      "outputs": [
        {
          "output_type": "stream",
          "name": "stdout",
          "text": [
            "Found 10010 validated image filenames belonging to 9 classes.\n"
          ]
        }
      ],
      "source": [
        "# Создадим генератор на основе валидационных данных\n",
        "val_data_gen = val_image_generator.flow_from_dataframe(df_val, directory=path,\n",
        "                                                           x_col='img_path_new', y_col='emotion',\n",
        "                                                           batch_size=BATCH_SIZE,\n",
        "                                                           shuffle=False,\n",
        "                                                           target_size=(IMG_SHAPE,IMG_SHAPE), \n",
        "                                                           class_mode='categorical')"
      ]
    },
    {
      "cell_type": "code",
      "execution_count": 96,
      "metadata": {
        "id": "LSKjRLnoxoda"
      },
      "outputs": [],
      "source": [
        "def show_faces(images, labels, predicted_labels=None, emotions=emotions):\n",
        "  # Демонстрирует изображения с подписями, и при наличии - их предсказаниями\n",
        "    plt.figure(figsize=(20,10))\n",
        "    for i in range(32):\n",
        "        plt.subplot(4,8, i+1)\n",
        "        plt.xticks([])\n",
        "        plt.yticks([])\n",
        "        plt.grid(False)\n",
        "        plt.imshow(images[i], cmap=plt.cm.gray)\n",
        "        if predicted_labels is not None:\n",
        "            title_obj = plt.title(f\"Real: {emotions[labels[i]]}. Pred: {emotions[np.argmax(predicted_labels[i])]}\")\n",
        "            if labels[i] != predicted_labels[i]:\n",
        "                plt.setp(title_obj, color='r')\n",
        "        else:\n",
        "            plt.title(f\"Real label: {emotions[np.argmax(labels[i])]}\")"
      ]
    },
    {
      "cell_type": "code",
      "execution_count": 22,
      "metadata": {
        "id": "WjezyF0JNazN"
      },
      "outputs": [],
      "source": [
        "#Посмотрим, что выдает генератор тренеровочных данных\n",
        "if DO_IT:\n",
        "  example_32_img = train_data_gen.next()[:32]\n",
        "  show_faces(example_32_img[0], example_32_img[1], predicted_labels=None, emotions=emotions)"
      ]
    },
    {
      "cell_type": "markdown",
      "metadata": {
        "id": "Hg_Jy99XDZ24"
      },
      "source": [
        "#5. Модель #1 - небольшая классическая сверточная нейронная сеть (CNN)"
      ]
    },
    {
      "cell_type": "markdown",
      "metadata": {
        "id": "efyS1Ka4FQms"
      },
      "source": [
        "В ходе выполнения работы придерживаемся следующих правил по оптимизации времения выполнения сети:\n",
        "1) Оптимизация модели при обучении:\n",
        "   * 1.1)  От простой модели к сложной.\n",
        "   * 1.2) Не заставлять учить то, что задается явно.\n",
        "   * 1.3) Понизить ширину сети за счет Conv(1х1).\n",
        "   * 1.4) Заменить Conv+Pool2D на Strided Conv.\n",
        "   * 1.5) Использовать активацию Relu по возможности.\n",
        "   * 1.6) Количество карт признаков делать кратным 8.\n",
        "   * 1.7) Применить поканальную сепарабельную свертку (Depth-wise separable Conv).\n",
        "   * 1.8) Применить Прореживание (Puring).\n",
        "   * 1.9) Другое... \n",
        "\n",
        "2) Оптимизация модели после обучения: с помощью TensorRT"
      ]
    },
    {
      "cell_type": "code",
      "execution_count": 97,
      "metadata": {
        "colab": {
          "base_uri": "https://localhost:8080/"
        },
        "id": "s7Sflvsp7Fmy",
        "outputId": "2df4ac7e-5fce-4fc1-a25c-71fdf5fbd34f"
      },
      "outputs": [
        {
          "output_type": "stream",
          "name": "stdout",
          "text": [
            "Model: \"sequential_1\"\n",
            "_________________________________________________________________\n",
            " Layer (type)                Output Shape              Param #   \n",
            "=================================================================\n",
            " conv2d_3 (Conv2D)           (None, 32, 32, 32)        896       \n",
            "                                                                 \n",
            " conv2d_4 (Conv2D)           (None, 16, 16, 64)        18496     \n",
            "                                                                 \n",
            " conv2d_5 (Conv2D)           (None, 8, 8, 128)         73856     \n",
            "                                                                 \n",
            " flatten_1 (Flatten)         (None, 8192)              0         \n",
            "                                                                 \n",
            " dense_2 (Dense)             (None, 128)               1048704   \n",
            "                                                                 \n",
            " dense_3 (Dense)             (None, 9)                 1161      \n",
            "                                                                 \n",
            "=================================================================\n",
            "Total params: 1,143,113\n",
            "Trainable params: 1,143,113\n",
            "Non-trainable params: 0\n",
            "_________________________________________________________________\n"
          ]
        }
      ],
      "source": [
        "model_1 = tf.keras.Sequential()\n",
        "model_1 .add(tf.keras.layers.Conv2D(filters=32, kernel_size=(3,3),\n",
        "                                 padding='same', activation='relu',\n",
        "                                 input_shape=(IMG_SHAPE,IMG_SHAPE,3),\n",
        "                                 strides=(2,2)))\n",
        "model_1 .add(tf.keras.layers.Conv2D(filters=64, kernel_size=(3,3),\n",
        "                                 padding='same', activation='relu',\n",
        "                                 strides=(2,2)))\n",
        "model_1 .add(tf.keras.layers.Conv2D(filters=128, kernel_size=(3,3),\n",
        "                                 padding='same', activation='relu',\n",
        "                                 strides=(2,2)))\n",
        "model_1 .add(tf.keras.layers.Flatten())\n",
        "model_1 .add(tf.keras.layers.Dense(128, activation='relu'))\n",
        "model_1 .add(tf.keras.layers.Dense(n_emotions, activation='softmax'))\n",
        "model_1.summary()"
      ]
    },
    {
      "cell_type": "markdown",
      "metadata": {
        "id": "1fWKQoK0E5e-"
      },
      "source": [
        "##5.1 Проверим время работы одного прохода нейронной сети"
      ]
    },
    {
      "cell_type": "code",
      "execution_count": 98,
      "metadata": {
        "colab": {
          "base_uri": "https://localhost:8080/"
        },
        "id": "lRPmyw7kE9NS",
        "outputId": "f6ec66d6-005b-4c43-c3b2-14659d01b2eb"
      },
      "outputs": [
        {
          "output_type": "stream",
          "name": "stdout",
          "text": [
            "4.77 ms ± 370 µs per loop (mean ± std. dev. of 10 runs, 10 loops each)\n"
          ]
        }
      ],
      "source": [
        "%%timeit -n 10 -r 10\n",
        "q_opt = model_1(np.random.rand(1, IMG_SHAPE, IMG_SHAPE, 3).astype(np.float32))"
      ]
    },
    {
      "cell_type": "markdown",
      "metadata": {
        "id": "dZBjOklbDjjN"
      },
      "source": [
        "## 5.2. Обучение модели"
      ]
    },
    {
      "cell_type": "code",
      "execution_count": 99,
      "metadata": {
        "id": "QyHXzmxDY_vj"
      },
      "outputs": [],
      "source": [
        "# Скомпилируем модель\n",
        "optimizer = tf.keras.optimizers.Adam(learning_rate=1e-3)\n",
        "loss = tf.keras.losses.CategoricalCrossentropy()\n",
        "model_1.compile(optimizer=optimizer,\n",
        "              loss=loss,\n",
        "              metrics=['accuracy', 'categorical_accuracy'])\n",
        "\n",
        "\n",
        "checkpoint = tf.keras.callbacks.ModelCheckpoint(\n",
        "             filepath='model_1/checkpoint_best.h5',\n",
        "             monitor='accuracy', verbose=1, save_best_only=True,\n",
        "             mode='max')"
      ]
    },
    {
      "cell_type": "code",
      "execution_count": null,
      "metadata": {
        "id": "pxvp4MIqDn01"
      },
      "outputs": [],
      "source": [
        "# Обучим модель\n",
        "EPOCHS = 20\n",
        "STEPS_PER_EPOCH = 32\n",
        "\n",
        "history = model_1.fit(\n",
        "    train_data_gen,\n",
        "    epochs=EPOCHS,\n",
        "    validation_data=val_data_gen,\n",
        "    steps_per_epoch = STEPS_PER_EPOCH,\n",
        "    validation_freq=[1, EPOCHS],\n",
        "    callbacks=[PlotLossesCallback()]) # мы добавили коллбек для отрисовки прогресса"
      ]
    },
    {
      "cell_type": "markdown",
      "metadata": {
        "id": "jR8mXkxbbFzB"
      },
      "source": [
        "Обучение при BATCH_SIZE = 32 длится 3,5 часа  \n",
        "Обучение при BATCH_SIZE = 64 длится 7,5 часа"
      ]
    },
    {
      "cell_type": "markdown",
      "metadata": {
        "id": "uXNBKVAsbyJh"
      },
      "source": [
        "##5.3 Сохраним модель"
      ]
    },
    {
      "cell_type": "code",
      "execution_count": 101,
      "metadata": {
        "id": "ZzZbxNGy6mlh",
        "colab": {
          "base_uri": "https://localhost:8080/"
        },
        "outputId": "68aaab9c-9a50-4105-cea9-86881bfb73bb"
      },
      "outputs": [
        {
          "output_type": "stream",
          "name": "stderr",
          "text": [
            "WARNING:absl:Found untraced functions such as _jit_compiled_convolution_op, _jit_compiled_convolution_op, _jit_compiled_convolution_op, _update_step_xla while saving (showing 4 of 4). These functions will not be directly callable after loading.\n"
          ]
        }
      ],
      "source": [
        "model_1.save('saved_models/model_1')"
      ]
    },
    {
      "cell_type": "markdown",
      "source": [
        "#5.4 Загрузка модели"
      ],
      "metadata": {
        "id": "JHAlORcwCI47"
      }
    },
    {
      "cell_type": "code",
      "source": [
        "model_1_loaded = tf.keras.models.load_model('saved_models/model_1')"
      ],
      "metadata": {
        "id": "E74T8d7qCOxG"
      },
      "execution_count": null,
      "outputs": []
    },
    {
      "cell_type": "markdown",
      "source": [
        "##5.5 Выполним предсказания на тестовых данных"
      ],
      "metadata": {
        "id": "VoV_-tVCozBx"
      }
    },
    {
      "cell_type": "code",
      "source": [
        "# Создадим генератор, выдающий преобразованные тестовые данные\n",
        "test_image_generator = ImageDataGenerator(rescale=1./255)\n",
        "test_data_gen = test_image_generator.flow_from_directory(directory=path_test,\n",
        "                                                         batch_size=BATCH_SIZE,\n",
        "                                                         shuffle=False,\n",
        "                                                         target_size=(IMG_SHAPE,IMG_SHAPE),\n",
        "                                                         class_mode=None)"
      ],
      "metadata": {
        "colab": {
          "base_uri": "https://localhost:8080/"
        },
        "id": "rFMJjALr-V7j",
        "outputId": "0e79ff01-2383-4ed0-b51d-fb695f1f62c5"
      },
      "execution_count": 102,
      "outputs": [
        {
          "output_type": "stream",
          "name": "stdout",
          "text": [
            "Found 5000 images belonging to 1 classes.\n"
          ]
        }
      ]
    },
    {
      "cell_type": "code",
      "source": [
        "# Функция генерирования csv файла с предсказаниями\n",
        "def generate_prediction_csv(model, test_data_gen, name_of_file):\n",
        "  ''' Функция генерирования csv файла с предсказаниями'''\n",
        "  N = len(os.listdir(path_test_new))    # Количество тестовых рисунков\n",
        "  filenames = test_data_gen.filenames   # Имена файлов генератора\n",
        "  filenames = [filenames[i][2:] for i in range(N)]\n",
        "\n",
        "  pred = model.predict(test_data_gen, batch_size=BATCH_SIZE) # Предсказания\n",
        "  dict_pred = {'image_path':  filenames, 'emotion': emotions[np.argmax(pred, axis=1)]}    # Создаем словарь\n",
        "  df = pd.DataFrame(data=dict_pred)\n",
        "  # Отсортируем по порядку численному имена файлов\n",
        "  df['num'] = [int(x[:-4]) for x in df['image_path']]\n",
        "  df_pred = df.sort_values(by='num')[['image_path','emotion']]\n",
        "  df_pred.to_csv(name_of_file + '.csv', sep=',', index=False)\n",
        "  return df_pred"
      ],
      "metadata": {
        "id": "ZbFQVIiA_rhp"
      },
      "execution_count": 122,
      "outputs": []
    },
    {
      "cell_type": "code",
      "source": [
        "# Другой способ реализации Функции генерирования csv файла с предсказаниями\n",
        "'''\n",
        "def generate_prediction_csv(model, path_test, IMG_SHAPE, name_of_file):\n",
        "  # Функция генерирования csv файла с предсказаниями\n",
        "  N = len(os.listdir(path_test_new))\n",
        "  pred = {}\n",
        "  for i in range(N):\n",
        "    name = str(i) + '.jpg'\n",
        "    img = plt.imread(path_test + name)\n",
        "    img_mod = tf.image.resize(img, (IMG_SHAPE, IMG_SHAPE), tf.image.ResizeMethod.BILINEAR)\n",
        "    img_mod =  img_mod * 1./255\n",
        "    pred[name] = model.predict(img_mod[..., ::-1])\n",
        "\n",
        "  df_pred = pd.DataFrame(pred,columns=['image_path', 'emotion'])\n",
        "  df_pred.to_csv(name_of_file + '.csv', sep=',')\n",
        "  return df_pred\n",
        "'''"
      ],
      "metadata": {
        "id": "CDvNRgxQ-nmN"
      },
      "execution_count": null,
      "outputs": []
    },
    {
      "cell_type": "code",
      "source": [
        "# Генерирую файл csv с предсказанием\n",
        "%%time\n",
        "df_pred = generate_prediction_csv(model_1, test_data_gen, 'prediction_model_1')\n",
        "df_pred.head()"
      ],
      "metadata": {
        "id": "XGbhMqVx_4tE",
        "colab": {
          "base_uri": "https://localhost:8080/",
          "height": 258
        },
        "outputId": "12198a19-d69b-4785-99de-9ca1b82be49b"
      },
      "execution_count": 123,
      "outputs": [
        {
          "output_type": "stream",
          "name": "stdout",
          "text": [
            "40/40 [==============================] - 42s 1s/step\n",
            "CPU times: user 37.3 s, sys: 1.46 s, total: 38.8 s\n",
            "Wall time: 1min 26s\n"
          ]
        },
        {
          "output_type": "execute_result",
          "data": {
            "text/plain": [
              "     image_path   emotion\n",
              "0         0.jpg       sad\n",
              "1         1.jpg  surprise\n",
              "1112      2.jpg  surprise\n",
              "2223      3.jpg  surprise\n",
              "3334      4.jpg     anger"
            ],
            "text/html": [
              "\n",
              "  <div id=\"df-0a2130cb-0d28-47fc-8c46-ef44f151e426\">\n",
              "    <div class=\"colab-df-container\">\n",
              "      <div>\n",
              "<style scoped>\n",
              "    .dataframe tbody tr th:only-of-type {\n",
              "        vertical-align: middle;\n",
              "    }\n",
              "\n",
              "    .dataframe tbody tr th {\n",
              "        vertical-align: top;\n",
              "    }\n",
              "\n",
              "    .dataframe thead th {\n",
              "        text-align: right;\n",
              "    }\n",
              "</style>\n",
              "<table border=\"1\" class=\"dataframe\">\n",
              "  <thead>\n",
              "    <tr style=\"text-align: right;\">\n",
              "      <th></th>\n",
              "      <th>image_path</th>\n",
              "      <th>emotion</th>\n",
              "    </tr>\n",
              "  </thead>\n",
              "  <tbody>\n",
              "    <tr>\n",
              "      <th>0</th>\n",
              "      <td>0.jpg</td>\n",
              "      <td>sad</td>\n",
              "    </tr>\n",
              "    <tr>\n",
              "      <th>1</th>\n",
              "      <td>1.jpg</td>\n",
              "      <td>surprise</td>\n",
              "    </tr>\n",
              "    <tr>\n",
              "      <th>1112</th>\n",
              "      <td>2.jpg</td>\n",
              "      <td>surprise</td>\n",
              "    </tr>\n",
              "    <tr>\n",
              "      <th>2223</th>\n",
              "      <td>3.jpg</td>\n",
              "      <td>surprise</td>\n",
              "    </tr>\n",
              "    <tr>\n",
              "      <th>3334</th>\n",
              "      <td>4.jpg</td>\n",
              "      <td>anger</td>\n",
              "    </tr>\n",
              "  </tbody>\n",
              "</table>\n",
              "</div>\n",
              "      <button class=\"colab-df-convert\" onclick=\"convertToInteractive('df-0a2130cb-0d28-47fc-8c46-ef44f151e426')\"\n",
              "              title=\"Convert this dataframe to an interactive table.\"\n",
              "              style=\"display:none;\">\n",
              "        \n",
              "  <svg xmlns=\"http://www.w3.org/2000/svg\" height=\"24px\"viewBox=\"0 0 24 24\"\n",
              "       width=\"24px\">\n",
              "    <path d=\"M0 0h24v24H0V0z\" fill=\"none\"/>\n",
              "    <path d=\"M18.56 5.44l.94 2.06.94-2.06 2.06-.94-2.06-.94-.94-2.06-.94 2.06-2.06.94zm-11 1L8.5 8.5l.94-2.06 2.06-.94-2.06-.94L8.5 2.5l-.94 2.06-2.06.94zm10 10l.94 2.06.94-2.06 2.06-.94-2.06-.94-.94-2.06-.94 2.06-2.06.94z\"/><path d=\"M17.41 7.96l-1.37-1.37c-.4-.4-.92-.59-1.43-.59-.52 0-1.04.2-1.43.59L10.3 9.45l-7.72 7.72c-.78.78-.78 2.05 0 2.83L4 21.41c.39.39.9.59 1.41.59.51 0 1.02-.2 1.41-.59l7.78-7.78 2.81-2.81c.8-.78.8-2.07 0-2.86zM5.41 20L4 18.59l7.72-7.72 1.47 1.35L5.41 20z\"/>\n",
              "  </svg>\n",
              "      </button>\n",
              "      \n",
              "  <style>\n",
              "    .colab-df-container {\n",
              "      display:flex;\n",
              "      flex-wrap:wrap;\n",
              "      gap: 12px;\n",
              "    }\n",
              "\n",
              "    .colab-df-convert {\n",
              "      background-color: #E8F0FE;\n",
              "      border: none;\n",
              "      border-radius: 50%;\n",
              "      cursor: pointer;\n",
              "      display: none;\n",
              "      fill: #1967D2;\n",
              "      height: 32px;\n",
              "      padding: 0 0 0 0;\n",
              "      width: 32px;\n",
              "    }\n",
              "\n",
              "    .colab-df-convert:hover {\n",
              "      background-color: #E2EBFA;\n",
              "      box-shadow: 0px 1px 2px rgba(60, 64, 67, 0.3), 0px 1px 3px 1px rgba(60, 64, 67, 0.15);\n",
              "      fill: #174EA6;\n",
              "    }\n",
              "\n",
              "    [theme=dark] .colab-df-convert {\n",
              "      background-color: #3B4455;\n",
              "      fill: #D2E3FC;\n",
              "    }\n",
              "\n",
              "    [theme=dark] .colab-df-convert:hover {\n",
              "      background-color: #434B5C;\n",
              "      box-shadow: 0px 1px 3px 1px rgba(0, 0, 0, 0.15);\n",
              "      filter: drop-shadow(0px 1px 2px rgba(0, 0, 0, 0.3));\n",
              "      fill: #FFFFFF;\n",
              "    }\n",
              "  </style>\n",
              "\n",
              "      <script>\n",
              "        const buttonEl =\n",
              "          document.querySelector('#df-0a2130cb-0d28-47fc-8c46-ef44f151e426 button.colab-df-convert');\n",
              "        buttonEl.style.display =\n",
              "          google.colab.kernel.accessAllowed ? 'block' : 'none';\n",
              "\n",
              "        async function convertToInteractive(key) {\n",
              "          const element = document.querySelector('#df-0a2130cb-0d28-47fc-8c46-ef44f151e426');\n",
              "          const dataTable =\n",
              "            await google.colab.kernel.invokeFunction('convertToInteractive',\n",
              "                                                     [key], {});\n",
              "          if (!dataTable) return;\n",
              "\n",
              "          const docLinkHtml = 'Like what you see? Visit the ' +\n",
              "            '<a target=\"_blank\" href=https://colab.research.google.com/notebooks/data_table.ipynb>data table notebook</a>'\n",
              "            + ' to learn more about interactive tables.';\n",
              "          element.innerHTML = '';\n",
              "          dataTable['output_type'] = 'display_data';\n",
              "          await google.colab.output.renderOutput(dataTable, element);\n",
              "          const docLink = document.createElement('div');\n",
              "          docLink.innerHTML = docLinkHtml;\n",
              "          element.appendChild(docLink);\n",
              "        }\n",
              "      </script>\n",
              "    </div>\n",
              "  </div>\n",
              "  "
            ]
          },
          "metadata": {},
          "execution_count": 123
        }
      ]
    },
    {
      "cell_type": "markdown",
      "metadata": {
        "id": "tmHTLfiC6ntL"
      },
      "source": [
        "# 4. Модель #2 - с применением Fine-Tuning\n",
        "За основу возьмем сеть VGG19, обученную на ImageNet"
      ]
    },
    {
      "cell_type": "code",
      "execution_count": null,
      "metadata": {
        "id": "FoK-kD1F6l64",
        "colab": {
          "base_uri": "https://localhost:8080/"
        },
        "outputId": "2241527c-32c0-49e1-eb9f-5c3a57853cbc"
      },
      "outputs": [
        {
          "output_type": "stream",
          "name": "stdout",
          "text": [
            "Downloading data from https://storage.googleapis.com/tensorflow/keras-applications/vgg19/vgg19_weights_tf_dim_ordering_tf_kernels.h5\n",
            "574710816/574710816 [==============================] - 4s 0us/step\n",
            "Model: \"vgg19\"\n",
            "_________________________________________________________________\n",
            " Layer (type)                Output Shape              Param #   \n",
            "=================================================================\n",
            " input_1 (InputLayer)        [(None, 224, 224, 3)]     0         \n",
            "                                                                 \n",
            " block1_conv1 (Conv2D)       (None, 224, 224, 64)      1792      \n",
            "                                                                 \n",
            " block1_conv2 (Conv2D)       (None, 224, 224, 64)      36928     \n",
            "                                                                 \n",
            " block1_pool (MaxPooling2D)  (None, 112, 112, 64)      0         \n",
            "                                                                 \n",
            " block2_conv1 (Conv2D)       (None, 112, 112, 128)     73856     \n",
            "                                                                 \n",
            " block2_conv2 (Conv2D)       (None, 112, 112, 128)     147584    \n",
            "                                                                 \n",
            " block2_pool (MaxPooling2D)  (None, 56, 56, 128)       0         \n",
            "                                                                 \n",
            " block3_conv1 (Conv2D)       (None, 56, 56, 256)       295168    \n",
            "                                                                 \n",
            " block3_conv2 (Conv2D)       (None, 56, 56, 256)       590080    \n",
            "                                                                 \n",
            " block3_conv3 (Conv2D)       (None, 56, 56, 256)       590080    \n",
            "                                                                 \n",
            " block3_conv4 (Conv2D)       (None, 56, 56, 256)       590080    \n",
            "                                                                 \n",
            " block3_pool (MaxPooling2D)  (None, 28, 28, 256)       0         \n",
            "                                                                 \n",
            " block4_conv1 (Conv2D)       (None, 28, 28, 512)       1180160   \n",
            "                                                                 \n",
            " block4_conv2 (Conv2D)       (None, 28, 28, 512)       2359808   \n",
            "                                                                 \n",
            " block4_conv3 (Conv2D)       (None, 28, 28, 512)       2359808   \n",
            "                                                                 \n",
            " block4_conv4 (Conv2D)       (None, 28, 28, 512)       2359808   \n",
            "                                                                 \n",
            " block4_pool (MaxPooling2D)  (None, 14, 14, 512)       0         \n",
            "                                                                 \n",
            " block5_conv1 (Conv2D)       (None, 14, 14, 512)       2359808   \n",
            "                                                                 \n",
            " block5_conv2 (Conv2D)       (None, 14, 14, 512)       2359808   \n",
            "                                                                 \n",
            " block5_conv3 (Conv2D)       (None, 14, 14, 512)       2359808   \n",
            "                                                                 \n",
            " block5_conv4 (Conv2D)       (None, 14, 14, 512)       2359808   \n",
            "                                                                 \n",
            " block5_pool (MaxPooling2D)  (None, 7, 7, 512)         0         \n",
            "                                                                 \n",
            " flatten (Flatten)           (None, 25088)             0         \n",
            "                                                                 \n",
            " fc1 (Dense)                 (None, 4096)              102764544 \n",
            "                                                                 \n",
            " fc2 (Dense)                 (None, 4096)              16781312  \n",
            "                                                                 \n",
            " predictions (Dense)         (None, 1000)              4097000   \n",
            "                                                                 \n",
            "=================================================================\n",
            "Total params: 143,667,240\n",
            "Trainable params: 143,667,240\n",
            "Non-trainable params: 0\n",
            "_________________________________________________________________\n"
          ]
        }
      ],
      "source": [
        "model_vgg19 = tf.keras.applications.VGG19(weights='imagenet')  \n",
        "model_vgg19.summary()"
      ]
    },
    {
      "cell_type": "code",
      "source": [
        "# Оставим все слои кроме последнего\n",
        "base_model = tf.keras.Model([model_vgg19.input], model_vgg19.get_layer(\"fc2\").output)\n",
        "print(\"Количество слоев в базовой модели: \", len(base_model.layers))\n",
        "\n",
        "#Разморозим всче слои\n",
        "base_model.trainable =  True\n",
        "\n",
        "fine_tune_at = 25\n",
        "# все слои до fine_tune_at -- заморозим\n",
        "for layer in base_model.layers[:fine_tune_at]:\n",
        "  layer.trainable =  False\n",
        "\n",
        "base_model.summary()"
      ],
      "metadata": {
        "colab": {
          "base_uri": "https://localhost:8080/"
        },
        "id": "UFK7SQbwjIdl",
        "outputId": "7b60e86c-1175-4f13-efee-90f6fcffb3b6"
      },
      "execution_count": null,
      "outputs": [
        {
          "output_type": "stream",
          "name": "stdout",
          "text": [
            "Количество слоев в базовой модели:  25\n",
            "Model: \"model\"\n",
            "_________________________________________________________________\n",
            " Layer (type)                Output Shape              Param #   \n",
            "=================================================================\n",
            " input_1 (InputLayer)        [(None, 224, 224, 3)]     0         \n",
            "                                                                 \n",
            " block1_conv1 (Conv2D)       (None, 224, 224, 64)      1792      \n",
            "                                                                 \n",
            " block1_conv2 (Conv2D)       (None, 224, 224, 64)      36928     \n",
            "                                                                 \n",
            " block1_pool (MaxPooling2D)  (None, 112, 112, 64)      0         \n",
            "                                                                 \n",
            " block2_conv1 (Conv2D)       (None, 112, 112, 128)     73856     \n",
            "                                                                 \n",
            " block2_conv2 (Conv2D)       (None, 112, 112, 128)     147584    \n",
            "                                                                 \n",
            " block2_pool (MaxPooling2D)  (None, 56, 56, 128)       0         \n",
            "                                                                 \n",
            " block3_conv1 (Conv2D)       (None, 56, 56, 256)       295168    \n",
            "                                                                 \n",
            " block3_conv2 (Conv2D)       (None, 56, 56, 256)       590080    \n",
            "                                                                 \n",
            " block3_conv3 (Conv2D)       (None, 56, 56, 256)       590080    \n",
            "                                                                 \n",
            " block3_conv4 (Conv2D)       (None, 56, 56, 256)       590080    \n",
            "                                                                 \n",
            " block3_pool (MaxPooling2D)  (None, 28, 28, 256)       0         \n",
            "                                                                 \n",
            " block4_conv1 (Conv2D)       (None, 28, 28, 512)       1180160   \n",
            "                                                                 \n",
            " block4_conv2 (Conv2D)       (None, 28, 28, 512)       2359808   \n",
            "                                                                 \n",
            " block4_conv3 (Conv2D)       (None, 28, 28, 512)       2359808   \n",
            "                                                                 \n",
            " block4_conv4 (Conv2D)       (None, 28, 28, 512)       2359808   \n",
            "                                                                 \n",
            " block4_pool (MaxPooling2D)  (None, 14, 14, 512)       0         \n",
            "                                                                 \n",
            " block5_conv1 (Conv2D)       (None, 14, 14, 512)       2359808   \n",
            "                                                                 \n",
            " block5_conv2 (Conv2D)       (None, 14, 14, 512)       2359808   \n",
            "                                                                 \n",
            " block5_conv3 (Conv2D)       (None, 14, 14, 512)       2359808   \n",
            "                                                                 \n",
            " block5_conv4 (Conv2D)       (None, 14, 14, 512)       2359808   \n",
            "                                                                 \n",
            " block5_pool (MaxPooling2D)  (None, 7, 7, 512)         0         \n",
            "                                                                 \n",
            " flatten (Flatten)           (None, 25088)             0         \n",
            "                                                                 \n",
            " fc1 (Dense)                 (None, 4096)              102764544 \n",
            "                                                                 \n",
            " fc2 (Dense)                 (None, 4096)              16781312  \n",
            "                                                                 \n",
            "=================================================================\n",
            "Total params: 139,570,240\n",
            "Trainable params: 0\n",
            "Non-trainable params: 139,570,240\n",
            "_________________________________________________________________\n"
          ]
        }
      ]
    },
    {
      "cell_type": "code",
      "source": [
        "# Добавим выходной слой с n_emotions\n",
        "model_2 = tf.keras.Sequential([\n",
        "           base_model,\n",
        "           tf.keras.layers.Dense(n_emotions, activation='softmax')\n",
        "           ])\n",
        "\n",
        "model_2.summary()"
      ],
      "metadata": {
        "colab": {
          "base_uri": "https://localhost:8080/"
        },
        "id": "MmhrIL0ijIiv",
        "outputId": "9de2a7fd-a5c7-47c7-fbd2-b4ebd9df74da"
      },
      "execution_count": null,
      "outputs": [
        {
          "output_type": "stream",
          "name": "stdout",
          "text": [
            "Model: \"sequential_2\"\n",
            "_________________________________________________________________\n",
            " Layer (type)                Output Shape              Param #   \n",
            "=================================================================\n",
            " model (Functional)          (None, 4096)              139570240 \n",
            "                                                                 \n",
            " dense_4 (Dense)             (None, 9)                 36873     \n",
            "                                                                 \n",
            "=================================================================\n",
            "Total params: 139,607,113\n",
            "Trainable params: 36,873\n",
            "Non-trainable params: 139,570,240\n",
            "_________________________________________________________________\n"
          ]
        }
      ]
    },
    {
      "cell_type": "markdown",
      "metadata": {
        "id": "X3OsMgrfa3Ur"
      },
      "source": [
        "#4.1 Проверим время работы одного прохода нейронной сети"
      ]
    },
    {
      "cell_type": "code",
      "execution_count": null,
      "metadata": {
        "id": "n8QejzPCau-6",
        "colab": {
          "base_uri": "https://localhost:8080/"
        },
        "outputId": "41a2ea93-8ad0-4bf1-cba0-5d8c4ec875a4"
      },
      "outputs": [
        {
          "output_type": "stream",
          "name": "stdout",
          "text": [
            "583 ms ± 45.7 ms per loop (mean ± std. dev. of 10 runs, 10 loops each)\n"
          ]
        }
      ],
      "source": [
        "%%timeit -n 10 -r 10\n",
        "q_opt = model_2(np.random.rand(1, IMG_SHAPE, IMG_SHAPE, 3).astype(np.float32))"
      ]
    },
    {
      "cell_type": "markdown",
      "metadata": {
        "id": "xaHZU0oybKjt"
      },
      "source": [
        "## 4.2. Дообучение модели"
      ]
    },
    {
      "cell_type": "code",
      "execution_count": null,
      "metadata": {
        "id": "0ddyBNlVa-6h"
      },
      "outputs": [],
      "source": [
        "# Скомпилируем модель\n",
        "optimizer = tf.keras.optimizers.Adam(learning_rate=1e-3)\n",
        "loss = tf.keras.losses.CategoricalCrossentropy()\n",
        "model_2.compile(optimizer=optimizer,\n",
        "              loss=loss,\n",
        "              metrics=['accuracy'])"
      ]
    },
    {
      "cell_type": "code",
      "execution_count": null,
      "metadata": {
        "id": "CHx7GluUa54B"
      },
      "outputs": [],
      "source": [
        "# Обучим модель\n",
        "EPOCHS = 1\n",
        "history = model_2.fit(\n",
        "    train_data_gen,\n",
        "    epochs=EPOCHS,\n",
        "    validation_data=val_data_gen,\n",
        "    callbacks=[PlotLossesCallback()]) # мы добавили коллбек для отрисовки прогресса"
      ]
    },
    {
      "cell_type": "code",
      "source": [],
      "metadata": {
        "id": "VH56U2M-Fsz2"
      },
      "execution_count": null,
      "outputs": []
    },
    {
      "cell_type": "code",
      "source": [
        "# Генерирую файл csv с предсказанием\n",
        "df_pred = generate_prediction_csv(model_2, path_test_new, 224, 'prediction_model_2')"
      ],
      "metadata": {
        "colab": {
          "base_uri": "https://localhost:8080/",
          "height": 641
        },
        "id": "IZ3Q1udQFs8z",
        "outputId": "8f1cc63f-0fde-4c01-8e96-7de26381bf16"
      },
      "execution_count": null,
      "outputs": [
        {
          "output_type": "error",
          "ename": "ValueError",
          "evalue": "ignored",
          "traceback": [
            "\u001b[0;31m---------------------------------------------------------------------------\u001b[0m",
            "\u001b[0;31mValueError\u001b[0m                                Traceback (most recent call last)",
            "\u001b[0;32m<ipython-input-86-66de02a91eae>\u001b[0m in \u001b[0;36m<module>\u001b[0;34m\u001b[0m\n\u001b[1;32m      1\u001b[0m \u001b[0;31m# Генерирую файл csv с предсказанием\u001b[0m\u001b[0;34m\u001b[0m\u001b[0;34m\u001b[0m\u001b[0;34m\u001b[0m\u001b[0m\n\u001b[0;32m----> 2\u001b[0;31m \u001b[0mdf_pred\u001b[0m \u001b[0;34m=\u001b[0m \u001b[0mgenerate_prediction_csv\u001b[0m\u001b[0;34m(\u001b[0m\u001b[0mmodel_2\u001b[0m\u001b[0;34m,\u001b[0m \u001b[0mpath_test_new\u001b[0m\u001b[0;34m,\u001b[0m \u001b[0;36m224\u001b[0m\u001b[0;34m,\u001b[0m \u001b[0;34m'prediction_model_2'\u001b[0m\u001b[0;34m)\u001b[0m\u001b[0;34m\u001b[0m\u001b[0;34m\u001b[0m\u001b[0m\n\u001b[0m",
            "\u001b[0;32m<ipython-input-57-0f84367e7182>\u001b[0m in \u001b[0;36mgenerate_prediction_csv\u001b[0;34m(model, path_test, IMG_SHAPE, name_of_file)\u001b[0m\n\u001b[1;32m      7\u001b[0m     \u001b[0mimg\u001b[0m \u001b[0;34m=\u001b[0m \u001b[0mplt\u001b[0m\u001b[0;34m.\u001b[0m\u001b[0mimread\u001b[0m\u001b[0;34m(\u001b[0m\u001b[0mpath_test\u001b[0m \u001b[0;34m+\u001b[0m \u001b[0mname\u001b[0m\u001b[0;34m)\u001b[0m\u001b[0;34m\u001b[0m\u001b[0;34m\u001b[0m\u001b[0m\n\u001b[1;32m      8\u001b[0m     \u001b[0mimg_mod\u001b[0m \u001b[0;34m=\u001b[0m \u001b[0mtf\u001b[0m\u001b[0;34m.\u001b[0m\u001b[0mimage\u001b[0m\u001b[0;34m.\u001b[0m\u001b[0mresize\u001b[0m\u001b[0;34m(\u001b[0m\u001b[0mimg\u001b[0m\u001b[0;34m,\u001b[0m \u001b[0;34m(\u001b[0m\u001b[0mIMG_SHAPE\u001b[0m\u001b[0;34m,\u001b[0m \u001b[0mIMG_SHAPE\u001b[0m\u001b[0;34m)\u001b[0m\u001b[0;34m,\u001b[0m \u001b[0mtf\u001b[0m\u001b[0;34m.\u001b[0m\u001b[0mimage\u001b[0m\u001b[0;34m.\u001b[0m\u001b[0mResizeMethod\u001b[0m\u001b[0;34m.\u001b[0m\u001b[0mBILINEAR\u001b[0m\u001b[0;34m)\u001b[0m\u001b[0;34m\u001b[0m\u001b[0;34m\u001b[0m\u001b[0m\n\u001b[0;32m----> 9\u001b[0;31m     \u001b[0mpred\u001b[0m\u001b[0;34m[\u001b[0m\u001b[0mname\u001b[0m\u001b[0;34m]\u001b[0m \u001b[0;34m=\u001b[0m \u001b[0mmodel_1\u001b[0m\u001b[0;34m.\u001b[0m\u001b[0mpredict\u001b[0m\u001b[0;34m(\u001b[0m\u001b[0mimg_mod\u001b[0m\u001b[0;34m)\u001b[0m\u001b[0;34m\u001b[0m\u001b[0;34m\u001b[0m\u001b[0m\n\u001b[0m\u001b[1;32m     10\u001b[0m \u001b[0;34m\u001b[0m\u001b[0m\n\u001b[1;32m     11\u001b[0m   \u001b[0mdf_pred\u001b[0m \u001b[0;34m=\u001b[0m \u001b[0mpd\u001b[0m\u001b[0;34m.\u001b[0m\u001b[0mDataFrame\u001b[0m\u001b[0;34m(\u001b[0m\u001b[0mpred\u001b[0m\u001b[0;34m,\u001b[0m\u001b[0mcolumns\u001b[0m\u001b[0;34m=\u001b[0m\u001b[0;34m[\u001b[0m\u001b[0;34m'image_path'\u001b[0m\u001b[0;34m,\u001b[0m \u001b[0;34m'emotion'\u001b[0m\u001b[0;34m]\u001b[0m\u001b[0;34m)\u001b[0m\u001b[0;34m\u001b[0m\u001b[0;34m\u001b[0m\u001b[0m\n",
            "\u001b[0;32m/usr/local/lib/python3.8/dist-packages/keras/utils/traceback_utils.py\u001b[0m in \u001b[0;36merror_handler\u001b[0;34m(*args, **kwargs)\u001b[0m\n\u001b[1;32m     68\u001b[0m             \u001b[0;31m# To get the full stack trace, call:\u001b[0m\u001b[0;34m\u001b[0m\u001b[0;34m\u001b[0m\u001b[0;34m\u001b[0m\u001b[0m\n\u001b[1;32m     69\u001b[0m             \u001b[0;31m# `tf.debugging.disable_traceback_filtering()`\u001b[0m\u001b[0;34m\u001b[0m\u001b[0;34m\u001b[0m\u001b[0;34m\u001b[0m\u001b[0m\n\u001b[0;32m---> 70\u001b[0;31m             \u001b[0;32mraise\u001b[0m \u001b[0me\u001b[0m\u001b[0;34m.\u001b[0m\u001b[0mwith_traceback\u001b[0m\u001b[0;34m(\u001b[0m\u001b[0mfiltered_tb\u001b[0m\u001b[0;34m)\u001b[0m \u001b[0;32mfrom\u001b[0m \u001b[0;32mNone\u001b[0m\u001b[0;34m\u001b[0m\u001b[0;34m\u001b[0m\u001b[0m\n\u001b[0m\u001b[1;32m     71\u001b[0m         \u001b[0;32mfinally\u001b[0m\u001b[0;34m:\u001b[0m\u001b[0;34m\u001b[0m\u001b[0;34m\u001b[0m\u001b[0m\n\u001b[1;32m     72\u001b[0m             \u001b[0;32mdel\u001b[0m \u001b[0mfiltered_tb\u001b[0m\u001b[0;34m\u001b[0m\u001b[0;34m\u001b[0m\u001b[0m\n",
            "\u001b[0;32m/usr/local/lib/python3.8/dist-packages/keras/engine/training.py\u001b[0m in \u001b[0;36mtf__predict_function\u001b[0;34m(iterator)\u001b[0m\n\u001b[1;32m     13\u001b[0m                 \u001b[0;32mtry\u001b[0m\u001b[0;34m:\u001b[0m\u001b[0;34m\u001b[0m\u001b[0;34m\u001b[0m\u001b[0m\n\u001b[1;32m     14\u001b[0m                     \u001b[0mdo_return\u001b[0m \u001b[0;34m=\u001b[0m \u001b[0;32mTrue\u001b[0m\u001b[0;34m\u001b[0m\u001b[0;34m\u001b[0m\u001b[0m\n\u001b[0;32m---> 15\u001b[0;31m                     \u001b[0mretval_\u001b[0m \u001b[0;34m=\u001b[0m \u001b[0mag__\u001b[0m\u001b[0;34m.\u001b[0m\u001b[0mconverted_call\u001b[0m\u001b[0;34m(\u001b[0m\u001b[0mag__\u001b[0m\u001b[0;34m.\u001b[0m\u001b[0mld\u001b[0m\u001b[0;34m(\u001b[0m\u001b[0mstep_function\u001b[0m\u001b[0;34m)\u001b[0m\u001b[0;34m,\u001b[0m \u001b[0;34m(\u001b[0m\u001b[0mag__\u001b[0m\u001b[0;34m.\u001b[0m\u001b[0mld\u001b[0m\u001b[0;34m(\u001b[0m\u001b[0mself\u001b[0m\u001b[0;34m)\u001b[0m\u001b[0;34m,\u001b[0m \u001b[0mag__\u001b[0m\u001b[0;34m.\u001b[0m\u001b[0mld\u001b[0m\u001b[0;34m(\u001b[0m\u001b[0miterator\u001b[0m\u001b[0;34m)\u001b[0m\u001b[0;34m)\u001b[0m\u001b[0;34m,\u001b[0m \u001b[0;32mNone\u001b[0m\u001b[0;34m,\u001b[0m \u001b[0mfscope\u001b[0m\u001b[0;34m)\u001b[0m\u001b[0;34m\u001b[0m\u001b[0;34m\u001b[0m\u001b[0m\n\u001b[0m\u001b[1;32m     16\u001b[0m                 \u001b[0;32mexcept\u001b[0m\u001b[0;34m:\u001b[0m\u001b[0;34m\u001b[0m\u001b[0;34m\u001b[0m\u001b[0m\n\u001b[1;32m     17\u001b[0m                     \u001b[0mdo_return\u001b[0m \u001b[0;34m=\u001b[0m \u001b[0;32mFalse\u001b[0m\u001b[0;34m\u001b[0m\u001b[0;34m\u001b[0m\u001b[0m\n",
            "\u001b[0;31mValueError\u001b[0m: in user code:\n\n    File \"/usr/local/lib/python3.8/dist-packages/keras/engine/training.py\", line 2137, in predict_function  *\n        return step_function(self, iterator)\n    File \"/usr/local/lib/python3.8/dist-packages/keras/engine/training.py\", line 2123, in step_function  **\n        outputs = model.distribute_strategy.run(run_step, args=(data,))\n    File \"/usr/local/lib/python3.8/dist-packages/keras/engine/training.py\", line 2111, in run_step  **\n        outputs = model.predict_step(data)\n    File \"/usr/local/lib/python3.8/dist-packages/keras/engine/training.py\", line 2079, in predict_step\n        return self(x, training=False)\n    File \"/usr/local/lib/python3.8/dist-packages/keras/utils/traceback_utils.py\", line 70, in error_handler\n        raise e.with_traceback(filtered_tb) from None\n    File \"/usr/local/lib/python3.8/dist-packages/keras/engine/input_spec.py\", line 295, in assert_input_compatibility\n        raise ValueError(\n\n    ValueError: Input 0 of layer \"sequential_1\" is incompatible with the layer: expected shape=(None, 64, 64, 3), found shape=(32, 224, 3)\n"
          ]
        }
      ]
    },
    {
      "cell_type": "markdown",
      "metadata": {
        "id": "GzjWZ26lFIpI"
      },
      "source": [
        "#5. Оптимизация модели"
      ]
    },
    {
      "cell_type": "code",
      "execution_count": null,
      "metadata": {
        "id": "-0BmUAdcFMQi"
      },
      "outputs": [],
      "source": []
    },
    {
      "cell_type": "code",
      "execution_count": null,
      "metadata": {
        "id": "2qyvObQs2WkN"
      },
      "outputs": [],
      "source": []
    },
    {
      "cell_type": "markdown",
      "metadata": {
        "id": "5YL4EfDa2X2p"
      },
      "source": [
        "# 6. Проведите эксперименты с valence-arousal разложением эмоций, когда модель обучается не на самих эмоциях, а на их разложении по этим двум компонентам"
      ]
    },
    {
      "cell_type": "code",
      "execution_count": null,
      "metadata": {
        "id": "G7rePxJ4QiZg"
      },
      "outputs": [],
      "source": []
    },
    {
      "cell_type": "code",
      "execution_count": null,
      "metadata": {
        "id": "7mvHPzV-QkC7"
      },
      "outputs": [],
      "source": []
    },
    {
      "cell_type": "markdown",
      "metadata": {
        "id": "yFXAsuyvQlEC"
      },
      "source": [
        "# 7. Определение эмоции по видео с камеры"
      ]
    },
    {
      "cell_type": "code",
      "execution_count": null,
      "metadata": {
        "id": "vdtPYqJ6Qpjz"
      },
      "outputs": [],
      "source": [
        "import cv2\n",
        "#from google.colab.patches import cv2_imshow"
      ]
    },
    {
      "cell_type": "code",
      "execution_count": null,
      "metadata": {
        "colab": {
          "base_uri": "https://localhost:8080/"
        },
        "id": "ymQNRNAyQ370",
        "outputId": "c490a036-9fd2-4d25-c30e-a9961b380ad1"
      },
      "outputs": [
        {
          "name": "stdout",
          "output_type": "stream",
          "text": [
            "False\n"
          ]
        }
      ],
      "source": [
        "cam_port = 0\n",
        "cam = cv2.VideoCapture(cam_port)\n",
        "  \n",
        "# reading the input using the camera\n",
        "result, image = cam.read()\n",
        "print(result)\n",
        "if result:\n",
        "    cv2.imshow(\"GeeksForGeeks\", image)\n",
        "    cv2.waitKey(1)"
      ]
    }
  ],
  "metadata": {
    "colab": {
      "provenance": [],
      "collapsed_sections": [
        "5IIJnMrPGlbh"
      ],
      "authorship_tag": "ABX9TyOL0bOsNMqd6nF77cTJ3XvZ",
      "include_colab_link": true
    },
    "kernelspec": {
      "display_name": "Python 3",
      "name": "python3"
    },
    "language_info": {
      "name": "python"
    }
  },
  "nbformat": 4,
  "nbformat_minor": 0
}