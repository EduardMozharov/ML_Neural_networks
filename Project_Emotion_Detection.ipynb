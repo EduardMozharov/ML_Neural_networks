{
  "cells": [
    {
      "cell_type": "markdown",
      "metadata": {
        "id": "view-in-github",
        "colab_type": "text"
      },
      "source": [
        "<a href=\"https://colab.research.google.com/github/EduardMozharov/ML_Neural_networks/blob/main/Project_Emotion_Detection.ipynb\" target=\"_parent\"><img src=\"https://colab.research.google.com/assets/colab-badge.svg\" alt=\"Open In Colab\"/></a>"
      ]
    },
    {
      "cell_type": "markdown",
      "metadata": {
        "id": "6-rtcvZC8QG4"
      },
      "source": [
        "#Project \"Emotion Detection\"\n",
        "Итоговая работа курса SKILLBOX:  \n",
        "Data Science. ML. Средний уровень (Нейронны сети))"
      ]
    },
    {
      "cell_type": "markdown",
      "metadata": {
        "id": "QGJ7TyGF7J-V"
      },
      "source": [
        "# Задание\n",
        "**Цель** - реализовать нейронную сеть, распознающую эмоции\n",
        "\n",
        "**Задачи:**\n",
        "1. Работа требует реализации алгоритма, с помощью которого будет происходить заданная классификация. Приветствуется использование архитектур свёрточных нейронных сетей, разобранных во время теоретических занятий. Время инференса сети на Google Colab не должно превышать 0,33 секунды (3 кадра в секунду).\n",
        "\n",
        "2. Создать скрипт, который будет работать с их веб-камерами и выводить на экран текущую эмоцию.\n",
        "\n",
        "\n",
        "**Дополнительно:**  \n",
        "1. Используйте подходы по искусственному увеличению датасета для обучения, а именно — аргументации, рассмотренные в курсе.\n",
        "2. Используйте продвинутые техники обучения, такие как finetuning и другие, рассмотренные в курсе.\n",
        "3. Пишите структурный код (основная логика кода должна быть вынесена в классы/методы/функции + осмысленный нейминг сущностей и комментарии).\n",
        "4. Проведите эксперименты с valence-arousal разложением эмоций, когда модель обучается не на самих эмоциях, а на их разложении по этим двум компонентам. Информация о подобном разложении есть в дополнительных материалах.\n",
        "\n",
        " \n",
        "Работающий прототип из пункта «Улучшение и дополнения к заданию» прибавляет один балл к итоговой оценке и добавляет в портфолио ценный ML-проект.\n",
        "\n",
        "\n"
      ]
    },
    {
      "cell_type": "markdown",
      "metadata": {
        "id": "r1l-0ga0dVuO"
      },
      "source": [
        "## Отправка результата на проверку\n",
        "Метрика данного соревнования categorisation accuracy.\n",
        "\n",
        "Формат решения\n",
        "Для каждого изображения в тестовом датасете, файл с решением должен содержать две колонки: image_path и emotion. image_path -- название изображение. Имеет формат k.jpg, где k натуральное число от 0 до 4999. emotion -- название предсказанной эмоции для данного изображение. Все представленные в задании эмоции вы можете найти на странице с описанием данных.\n",
        "\n",
        "Итоговый csv файл должен иметь названия колонок и иметь структуру, как представлено ниже\n",
        "\n",
        "image_path,emotion  \n",
        "0.jpg,neutral  \n",
        "1.jpg,angry  \n",
        "2.jpg,sad  \n",
        "3.jpg,contempt  "
      ]
    },
    {
      "cell_type": "markdown",
      "metadata": {
        "id": "lFYqw13S8N6S"
      },
      "source": [
        "# 1 Загрузим необходимые библиотеки"
      ]
    },
    {
      "cell_type": "code",
      "execution_count": null,
      "metadata": {
        "id": "_GpsIZFfNN1h"
      },
      "outputs": [],
      "source": [
        "DO_IT = False # Выполнять ли особые части кода"
      ]
    },
    {
      "cell_type": "code",
      "execution_count": null,
      "metadata": {
        "id": "HgV-Yz4LDJRe"
      },
      "outputs": [],
      "source": [
        "!pip install livelossplot\n",
        "\n",
        "# Для работы оптимизатора TensorRT может потребоваться предыдущая версия tensorflow\n",
        "#!pip install -U tensorflow==2.7.0\n",
        "#!pip install keras==2.6.*"
      ]
    },
    {
      "cell_type": "code",
      "execution_count": null,
      "metadata": {
        "colab": {
          "base_uri": "https://localhost:8080/"
        },
        "id": "WjdfMLtG7Fbq",
        "outputId": "485aeff4-5e28-43b2-9d66-994417f00ce9"
      },
      "outputs": [
        {
          "output_type": "stream",
          "name": "stdout",
          "text": [
            "TensorFlow version: 2.11.0\n"
          ]
        }
      ],
      "source": [
        "import numpy as np\n",
        "import pandas as pd\n",
        "import matplotlib.pyplot as plt\n",
        "import os\n",
        "import random\n",
        "\n",
        "import tensorflow as tf\n",
        "print('TensorFlow version:', tf.__version__)\n",
        "from tensorflow.keras.preprocessing.image import ImageDataGenerator\n",
        "from tensorflow.keras.preprocessing import image\n",
        "from livelossplot.tf_keras  import PlotLossesCallback\n",
        "\n",
        "import timeit"
      ]
    },
    {
      "cell_type": "markdown",
      "metadata": {
        "id": "5_mOHFyMFHi6"
      },
      "source": []
    },
    {
      "cell_type": "markdown",
      "metadata": {
        "id": "ry-ZzkcCDEz0"
      },
      "source": [
        "#2. Загрузим данные и рассмотрим их"
      ]
    },
    {
      "cell_type": "markdown",
      "metadata": {
        "id": "5IIJnMrPGlbh"
      },
      "source": [
        "## 2.1 Загрузим рисунки"
      ]
    },
    {
      "cell_type": "code",
      "execution_count": null,
      "metadata": {
        "colab": {
          "base_uri": "https://localhost:8080/"
        },
        "id": "b0fDDmOa7Fe1",
        "outputId": "890af591-8893-4583-82bb-00416a5b6718"
      },
      "outputs": [
        {
          "output_type": "stream",
          "name": "stdout",
          "text": [
            "Mounted at /content/drive/\n"
          ]
        }
      ],
      "source": [
        "from google.colab import drive\n",
        "drive.mount('/content/drive/')"
      ]
    },
    {
      "cell_type": "code",
      "execution_count": null,
      "metadata": {
        "id": "ySo-LjBxIEuP"
      },
      "outputs": [],
      "source": [
        "# Один раз загрузим и разархивируем данные на личный диск,\n",
        "# чтобы каждый раз заново не загружать данные\n",
        "path_old = '/content/drive/MyDrive/SKILLBOX/FinalWorks/ML/'\n",
        "path = '/content/'\n",
        "\n",
        "!cp -a /content/drive/MyDrive/SKILLBOX/FinalWorks/ML/train.csv  /content/\n",
        "!cp -a /content/drive/MyDrive/SKILLBOX/FinalWorks/ML/train/  /content/\n",
        "!cp -a /content/drive/MyDrive/SKILLBOX/FinalWorks/ML/test_kaggle/  /content/\n",
        "\n",
        "\n",
        "#os.chdir(path)\n",
        "#!unzip -q train.zip\n",
        "#!unzip -q test_kaggle.zip"
      ]
    },
    {
      "cell_type": "markdown",
      "metadata": {
        "id": "n5cRRadcGtXU"
      },
      "source": [
        "## 2.2. Загрузим табличные данные и рассмотрим их"
      ]
    },
    {
      "cell_type": "code",
      "execution_count": null,
      "metadata": {
        "id": "bNQYE2-pJkLx"
      },
      "outputs": [],
      "source": [
        "# Загрузим таблицу с описанием данных train\n",
        "df = pd.read_csv(path+'train.csv')\n",
        "n_data = df.shape[0]\n",
        "print('Количество строк данных', n_data)\n",
        "df.head()"
      ]
    },
    {
      "cell_type": "code",
      "execution_count": null,
      "metadata": {
        "id": "bd4_uq3fGMxS"
      },
      "outputs": [],
      "source": [
        "emotions = df.emotion.unique()\n",
        "n_emotions = emotions.shape[0]\n",
        "\n",
        "print(\"Всего эмоций {}: {} \".format(n_emotions, emotions))"
      ]
    },
    {
      "cell_type": "markdown",
      "metadata": {
        "id": "8tGSh7qfG7SH"
      },
      "source": [
        "**image_path** - строка, являющаюся путем до изображения в случае обучения или названием изображения в случае теста  \n",
        "**emotion** - строка, характеризующая эмоцию  \n",
        "\n",
        "  \n",
        "В данном задании требуется предсказать 9 базовых эмоций, таких как:  \n",
        "* **neutral** - нейтральная эмоция\n",
        "* **anger**- гнев, злость\n",
        "* **contempt** - презрение\n",
        "* **disgust** - отвращение\n",
        "* **fear** - страх\n",
        "* **happy** - веселый\n",
        "* **sad** - грусть\n",
        "* **surprise** - удивленность\n",
        "* **uncertain** - неуверенность"
      ]
    },
    {
      "cell_type": "code",
      "execution_count": null,
      "metadata": {
        "id": "oa2hdPBUIBqF",
        "colab": {
          "base_uri": "https://localhost:8080/"
        },
        "outputId": "f38bf649-8883-40ee-837e-3af7b0afa1a9"
      },
      "outputs": [
        {
          "data": {
            "text/plain": [
              "emotion\n",
              "anger        7022\n",
              "contempt     3085\n",
              "disgust      3155\n",
              "fear         5044\n",
              "happy        5955\n",
              "neutral      6795\n",
              "sad          6740\n",
              "surprise     6323\n",
              "uncertain    5927\n",
              "Name: image_path, dtype: int64"
            ]
          },
          "execution_count": 8,
          "metadata": {},
          "output_type": "execute_result"
        }
      ],
      "source": [
        "df_count = df.groupby('emotion').count()['image_path']\n",
        "df_count"
      ]
    },
    {
      "cell_type": "markdown",
      "metadata": {
        "id": "BVbrtcdmHj6h"
      },
      "source": [
        "## 2.3 Рассмотрим рисунки"
      ]
    },
    {
      "cell_type": "code",
      "execution_count": null,
      "metadata": {
        "id": "YUc6rnpVHogt"
      },
      "outputs": [],
      "source": [
        "def show_img(img_ind=1):\n",
        "  img = plt.imread(path+df['image_path'][img_ind][2:])\n",
        "  plt.imshow(img)\n",
        "  plt.title(df['emotion'][img_ind])\n",
        "\n",
        "def show_random_test_img(n_img=10):\n",
        "    plt.figure(figsize=(20,10))\n",
        "    for i in range(n_img):\n",
        "        plt.subplot(4,8, i+1)\n",
        "        plt.xticks([])\n",
        "        plt.yticks([])\n",
        "        plt.grid(False)\n",
        "        img_ind = random.randint(0, n_data)\n",
        "        show_img(img_ind)"
      ]
    },
    {
      "cell_type": "code",
      "execution_count": null,
      "metadata": {
        "id": "SKeKam6PKFIi"
      },
      "outputs": [],
      "source": [
        "if DO_IT: \n",
        "  show_img(1)"
      ]
    },
    {
      "cell_type": "code",
      "execution_count": null,
      "metadata": {
        "id": "A-BGVBRPwxJa"
      },
      "outputs": [],
      "source": [
        "if DO_IT:\n",
        "  show_random_test_img(n_img=16)"
      ]
    },
    {
      "cell_type": "markdown",
      "metadata": {
        "id": "0XFTNdovoKr2"
      },
      "source": [
        "# 3. Рассмотрим тестовые данные"
      ]
    },
    {
      "cell_type": "code",
      "execution_count": null,
      "metadata": {
        "id": "NsJocm50cNng",
        "colab": {
          "base_uri": "https://localhost:8080/",
          "height": 53
        },
        "outputId": "350ea4e9-71d4-4a86-9061-07db1cd5c4eb"
      },
      "outputs": [
        {
          "data": {
            "application/vnd.google.colaboratory.intrinsic+json": {
              "type": "string"
            },
            "text/plain": [
              "\"\\nget_files = os.listdir(path_test)\\nfor g in get_files:\\n  if g != '1':\\n    os.replace(path_test + g, path_test_new + g)\\n\""
            ]
          },
          "execution_count": 12,
          "metadata": {},
          "output_type": "execute_result"
        }
      ],
      "source": [
        "path_test = path + 'test_kaggle/'    # Путь к тестовым изображениям\n",
        "path_test_new = path_test + '1/'  # Путь, куда переместим данные\n",
        " \n",
        "'''\n",
        "get_files = os.listdir(path_test)\n",
        "for g in get_files:\n",
        "  if g != '1':\n",
        "    os.replace(path_test + g, path_test_new + g)\n",
        "'''"
      ]
    },
    {
      "cell_type": "code",
      "execution_count": null,
      "metadata": {
        "id": "Dav7JgTOoeoQ"
      },
      "outputs": [],
      "source": [
        "def show_test_img(n_img=0):\n",
        "  img = plt.imread(path_test_new + str(n_img) + '.jpg')\n",
        "  plt.imshow(img)\n",
        "\n",
        "if DO_IT:\n",
        "  show_test_img(n_img=1)  "
      ]
    },
    {
      "cell_type": "markdown",
      "metadata": {
        "id": "p9RfjZxWwx3Q"
      },
      "source": [
        "# 4. Подготовка данных. Аугментация.\n"
      ]
    },
    {
      "cell_type": "code",
      "execution_count": null,
      "metadata": {
        "id": "_oOAgSfBxW40"
      },
      "outputs": [],
      "source": [
        "BATCH_SIZE = 512\n",
        "IMG_SHAPE  = 64\n",
        "VAL_PART = 0.2    # Размер валидационной выборки от исходных данных \n",
        "RANDOM_STATE = 17"
      ]
    },
    {
      "cell_type": "markdown",
      "metadata": {
        "id": "zEvMksNjoglM"
      },
      "source": [
        "## 4.1 Разобью выборку на обучающую и валидационную"
      ]
    },
    {
      "cell_type": "code",
      "execution_count": null,
      "metadata": {
        "id": "B3m20L_14f30"
      },
      "outputs": [],
      "source": [
        "df['img_path_new'] = df['image_path'].apply(lambda x: x[2:])"
      ]
    },
    {
      "cell_type": "code",
      "execution_count": null,
      "metadata": {
        "id": "AL2sjR6o85Hr",
        "colab": {
          "base_uri": "https://localhost:8080/"
        },
        "outputId": "fceb2980-c135-44f1-e17b-34076b603cc9"
      },
      "outputs": [
        {
          "output_type": "stream",
          "name": "stdout",
          "text": [
            "Размер обучающей выборки: 40036\n",
            "Размер валидационной выборки: 10010\n"
          ]
        }
      ],
      "source": [
        "# Перемешаем случайным образом строки и выбирем \n",
        "df_train, df_val = np.split(df.sample(frac=1, random_state=RANDOM_STATE), [int((1-VAL_PART)*len(df))])\n",
        "\n",
        "print('Размер обучающей выборки:', len(df_train))\n",
        "print('Размер валидационной выборки:', len(df_val))"
      ]
    },
    {
      "cell_type": "code",
      "execution_count": null,
      "metadata": {
        "id": "52ti7pSDyBBj",
        "colab": {
          "base_uri": "https://localhost:8080/"
        },
        "outputId": "5578228e-2d80-417d-bf74-9f69eedc850f"
      },
      "outputs": [
        {
          "output_type": "stream",
          "name": "stdout",
          "text": [
            "emotion\n",
            "anger        5627\n",
            "contempt     2468\n",
            "disgust      2562\n",
            "fear         3940\n",
            "happy        4745\n",
            "neutral      5476\n",
            "sad          5377\n",
            "surprise     5064\n",
            "uncertain    4777\n",
            "Name: image_path, dtype: int64\n",
            "-------------------\n",
            "emotion\n",
            "anger        1395\n",
            "contempt      617\n",
            "disgust       593\n",
            "fear         1104\n",
            "happy        1210\n",
            "neutral      1319\n",
            "sad          1363\n",
            "surprise     1259\n",
            "uncertain    1150\n",
            "Name: image_path, dtype: int64\n"
          ]
        }
      ],
      "source": [
        "# Проверим, что попали разные эмоции в каждую из выборок\n",
        "print(df_train.groupby('emotion').count()['image_path'])\n",
        "print('-------------------')\n",
        "print(df_val.groupby('emotion').count()['image_path'])"
      ]
    },
    {
      "cell_type": "markdown",
      "metadata": {
        "id": "bNgYsOPss2pb"
      },
      "source": [
        "## 4.2 Выполним Аугментацию данных и создадим генераторы данных"
      ]
    },
    {
      "cell_type": "code",
      "execution_count": null,
      "metadata": {
        "id": "Q7OZ8dTQzCa7"
      },
      "outputs": [],
      "source": [
        "# Выполним Аугментацию\n",
        "train_image_generator = ImageDataGenerator(\n",
        "      rescale=1./255,\n",
        "      rotation_range=10,  # максимальный угол поворота\n",
        "      width_shift_range=0.2, # смещение максимум на 20% ширины по горизонтали\n",
        "      height_shift_range=0.2, # смещение максимум на 20% высоты по вертикали\n",
        "      zoom_range=0.2, # картинка будет увеличена или уменьшена не более чем на 20% \n",
        "      horizontal_flip=False, # случайное отражение по горизонтали\n",
        "      vertical_flip=False, # случайное отражение по вертикали\n",
        "      fill_mode=\"nearest\", # чем заполнять пробелы -- сначала выберем черный цвет, а потом изменим на \"nearest\"\n",
        "      #cval=0,\n",
        "      ) \n",
        "\n",
        "val_image_generator = ImageDataGenerator(\n",
        "      rescale=1./255,\n",
        "      rotation_range=10,  # максимальный угол поворота\n",
        "      width_shift_range=0.2, # смещение максимум на 20% ширины по горизонтали\n",
        "      height_shift_range=0.2, # смещение максимум на 20% высоты по вертикали\n",
        "      zoom_range=0.2, # картинка будет увеличена или уменьшена не более чем на 20% \n",
        "      horizontal_flip=False, # случайное отражение по горизонтали\n",
        "      vertical_flip=False, # случайное отражение по вертикали\n",
        "      fill_mode=\"nearest\", # чем заполнять пробелы -- сначала выберем черный цвет, а потом изменим на \"nearest\"\n",
        "      #cval=0,\n",
        "      ) "
      ]
    },
    {
      "cell_type": "code",
      "execution_count": null,
      "metadata": {
        "id": "vLJ7Paj2w3fe",
        "colab": {
          "base_uri": "https://localhost:8080/"
        },
        "outputId": "2c4e8eee-6e7e-449b-d580-8f7759b185f1"
      },
      "outputs": [
        {
          "output_type": "stream",
          "name": "stdout",
          "text": [
            "Found 40036 validated image filenames belonging to 9 classes.\n",
            "CPU times: user 240 ms, sys: 73.1 ms, total: 314 ms\n",
            "Wall time: 313 ms\n"
          ]
        }
      ],
      "source": [
        "%%time\n",
        "# Создадим генератор на основе тренировочных данных\n",
        "train_data_gen = train_image_generator.flow_from_dataframe(df_train, directory=path,\n",
        "                                                           x_col='img_path_new', y_col='emotion',\n",
        "                                                           batch_size=BATCH_SIZE,\n",
        "                                                           shuffle=True,\n",
        "                                                           target_size=(IMG_SHAPE,IMG_SHAPE), \n",
        "                                                           class_mode='categorical')"
      ]
    },
    {
      "cell_type": "code",
      "execution_count": null,
      "metadata": {
        "id": "0EeXegEQiy0y",
        "colab": {
          "base_uri": "https://localhost:8080/"
        },
        "outputId": "9d6cfe0d-0683-4a46-a1c2-3774d65a3eec"
      },
      "outputs": [
        {
          "output_type": "stream",
          "name": "stdout",
          "text": [
            "Found 10010 validated image filenames belonging to 9 classes.\n"
          ]
        }
      ],
      "source": [
        "# Создадим генератор на основе валидационных данных\n",
        "val_data_gen = val_image_generator.flow_from_dataframe(df_val, directory=path,\n",
        "                                                           x_col='img_path_new', y_col='emotion',\n",
        "                                                           batch_size=BATCH_SIZE,\n",
        "                                                           shuffle=False,\n",
        "                                                           target_size=(IMG_SHAPE,IMG_SHAPE), \n",
        "                                                           class_mode='categorical')"
      ]
    },
    {
      "cell_type": "code",
      "execution_count": null,
      "metadata": {
        "id": "LSKjRLnoxoda"
      },
      "outputs": [],
      "source": [
        "def show_faces(images, labels, predicted_labels=None, emotions=emotions):\n",
        "  # Демонстрирует изображения с подписями, и при наличии - их предсказаниями\n",
        "    plt.figure(figsize=(20,10))\n",
        "    for i in range(32):\n",
        "        plt.subplot(4,8, i+1)\n",
        "        plt.xticks([])\n",
        "        plt.yticks([])\n",
        "        plt.grid(False)\n",
        "        plt.imshow(images[i], cmap=plt.cm.gray)\n",
        "        if predicted_labels is not None:\n",
        "            title_obj = plt.title(f\"Real: {emotions[labels[i]]}. Pred: {emotions[np.argmax(predicted_labels[i])]}\")\n",
        "            if labels[i] != predicted_labels[i]:\n",
        "                plt.setp(title_obj, color='r')\n",
        "        else:\n",
        "            plt.title(f\"Real label: {emotions[np.argmax(labels[i])]}\")"
      ]
    },
    {
      "cell_type": "code",
      "execution_count": null,
      "metadata": {
        "id": "WjezyF0JNazN"
      },
      "outputs": [],
      "source": [
        "#Посмотрим, что выдает генератор тренеровочных данных\n",
        "if DO_IT:\n",
        "  example_32_img = train_data_gen.next()[:32]\n",
        "  show_faces(example_32_img[0], example_32_img[1], predicted_labels=None, emotions=emotions)"
      ]
    },
    {
      "cell_type": "markdown",
      "metadata": {
        "id": "Hg_Jy99XDZ24"
      },
      "source": [
        "#5. Модель #1 - небольшая классическая сверточная нейронная сеть (CNN)"
      ]
    },
    {
      "cell_type": "markdown",
      "metadata": {
        "id": "efyS1Ka4FQms"
      },
      "source": [
        "В ходе выполнения работы придерживаемся следующих правил по оптимизации времения выполнения сети:\n",
        "1) Оптимизация модели при обучении:\n",
        "   * 1.1)  От простой модели к сложной.\n",
        "   * 1.2) Не заставлять учить то, что задается явно.\n",
        "   * 1.3) Понизить ширину сети за счет Conv(1х1).\n",
        "   * 1.4) Заменить Conv+Pool2D на Strided Conv.\n",
        "   * 1.5) Использовать активацию Relu по возможности.\n",
        "   * 1.6) Количество карт признаков делать кратным 8.\n",
        "   * 1.7) Применить поканальную сепарабельную свертку (Depth-wise separable Conv).\n",
        "   * 1.8) Применить Прореживание (Puring).\n",
        "   * 1.9) Другое... \n",
        "\n",
        "2) Оптимизация модели после обучения: с помощью TensorRT"
      ]
    },
    {
      "cell_type": "code",
      "execution_count": null,
      "metadata": {
        "colab": {
          "base_uri": "https://localhost:8080/"
        },
        "id": "s7Sflvsp7Fmy",
        "outputId": "2fd0c27d-97b8-4e53-8062-82560908d301"
      },
      "outputs": [
        {
          "name": "stdout",
          "output_type": "stream",
          "text": [
            "Model: \"sequential\"\n",
            "_________________________________________________________________\n",
            " Layer (type)                Output Shape              Param #   \n",
            "=================================================================\n",
            " conv2d (Conv2D)             (None, 32, 32, 32)        896       \n",
            "                                                                 \n",
            " conv2d_1 (Conv2D)           (None, 16, 16, 64)        18496     \n",
            "                                                                 \n",
            " conv2d_2 (Conv2D)           (None, 8, 8, 128)         73856     \n",
            "                                                                 \n",
            " flatten (Flatten)           (None, 8192)              0         \n",
            "                                                                 \n",
            " dense (Dense)               (None, 128)               1048704   \n",
            "                                                                 \n",
            " dense_1 (Dense)             (None, 9)                 1161      \n",
            "                                                                 \n",
            "=================================================================\n",
            "Total params: 1,143,113\n",
            "Trainable params: 1,143,113\n",
            "Non-trainable params: 0\n",
            "_________________________________________________________________\n"
          ]
        }
      ],
      "source": [
        "model_1 = tf.keras.Sequential()\n",
        "model_1 .add(tf.keras.layers.Conv2D(filters=32, kernel_size=(3,3),\n",
        "                                 padding='same', activation='relu',\n",
        "                                 input_shape=(IMG_SHAPE,IMG_SHAPE,3),\n",
        "                                 strides=(2,2)))\n",
        "model_1 .add(tf.keras.layers.Conv2D(filters=64, kernel_size=(3,3),\n",
        "                                 padding='same', activation='relu',\n",
        "                                 strides=(2,2)))\n",
        "model_1 .add(tf.keras.layers.Conv2D(filters=128, kernel_size=(3,3),\n",
        "                                 padding='same', activation='relu',\n",
        "                                 strides=(2,2)))\n",
        "model_1 .add(tf.keras.layers.Flatten())\n",
        "model_1 .add(tf.keras.layers.Dense(128, activation='relu'))\n",
        "model_1 .add(tf.keras.layers.Dense(n_emotions, activation='softmax'))\n",
        "model_1.summary()"
      ]
    },
    {
      "cell_type": "markdown",
      "metadata": {
        "id": "1fWKQoK0E5e-"
      },
      "source": [
        "##5.1 Проверим время работы одного прохода нейронной сети"
      ]
    },
    {
      "cell_type": "code",
      "execution_count": null,
      "metadata": {
        "colab": {
          "base_uri": "https://localhost:8080/"
        },
        "id": "lRPmyw7kE9NS",
        "outputId": "92208ffa-bf55-4857-cdf5-e987ea04b947"
      },
      "outputs": [
        {
          "name": "stdout",
          "output_type": "stream",
          "text": [
            "The slowest run took 5.67 times longer than the fastest. This could mean that an intermediate result is being cached.\n",
            "7.16 ms ± 6.3 ms per loop (mean ± std. dev. of 10 runs, 10 loops each)\n"
          ]
        }
      ],
      "source": [
        "%%timeit -n 10 -r 10\n",
        "q_opt = model_1(np.random.rand(1, IMG_SHAPE, IMG_SHAPE, 3).astype(np.float32))"
      ]
    },
    {
      "cell_type": "markdown",
      "metadata": {
        "id": "dZBjOklbDjjN"
      },
      "source": [
        "## 5.2. Обучение модели"
      ]
    },
    {
      "cell_type": "code",
      "execution_count": null,
      "metadata": {
        "id": "QyHXzmxDY_vj"
      },
      "outputs": [],
      "source": [
        "# Скомпилируем модель\n",
        "optimizer = tf.keras.optimizers.Adam(learning_rate=1e-4)\n",
        "loss = tf.keras.losses.CategoricalCrossentropy()\n",
        "model_1.compile(optimizer=optimizer,\n",
        "              loss=loss,\n",
        "              metrics=['accuracy', 'categorical_accuracy'])"
      ]
    },
    {
      "cell_type": "code",
      "execution_count": null,
      "metadata": {
        "id": "EBJJNRsnA5pV"
      },
      "outputs": [],
      "source": [
        "checkpoint = tf.keras.callbacks.ModelCheckpoint(\n",
        "             filepath= path_old + 'saved_models/model_1_checkpoint',\n",
        "             monitor='accuracy', verbose=2, save_best_only=True,\n",
        "             mode='max')"
      ]
    },
    {
      "cell_type": "code",
      "execution_count": null,
      "metadata": {
        "colab": {
          "base_uri": "https://localhost:8080/",
          "height": 1000
        },
        "id": "pxvp4MIqDn01",
        "outputId": "dd481ef8-981c-4ee2-b2c0-17ab421ae872"
      },
      "outputs": [
        {
          "output_type": "display_data",
          "data": {
            "text/plain": [
              "<Figure size 864x864 with 4 Axes>"
            ],
            "image/png": "[encoded data removed]"
          },
          "metadata": {
            "needs_background": "light"
          }
        },
        {
          "output_type": "stream",
          "name": "stdout",
          "text": [
            "accuracy\n",
            "\ttraining         \t (min:    0.352, max:    0.384, cur:    0.384)\n",
            "\tvalidation       \t (min:    0.360, max:    0.367, cur:    0.362)\n",
            "categorical_accuracy\n",
            "\ttraining         \t (min:    0.352, max:    0.384, cur:    0.384)\n",
            "\tvalidation       \t (min:    0.360, max:    0.367, cur:    0.362)\n",
            "Loss\n",
            "\ttraining         \t (min:    1.687, max:    1.743, cur:    1.706)\n",
            "\tvalidation       \t (min:    1.732, max:    1.746, cur:    1.732)\n",
            "\b\b\b\b\b\b\b\b\b\b\b\b\b\b\b\b\b\b\b\b\b\b\b\b\b\b\b\b\b\b\b\b\b\b\b\b\b\b\b\b\b\b\b\b\b\b\b\b\b\b\b\b\b\b\b\b\b\b\b\b\b\b\b\b\b\b\b\b\b\b\b\b\b\b\b\b\b\b\b\b\b\b\b\b\b\b\b\b\b\b\b\b\b\b\b\b\b\b\b\b\b\b\b\b\b\b\b\b\b\b\b\b\b\r64/64 [==============================] - 151s 2s/step - loss: 1.7062 - accuracy: 0.3839 - categorical_accuracy: 0.3839 - val_loss: 1.7324 - val_accuracy: 0.3616 - val_categorical_accuracy: 0.3616\n"
          ]
        }
      ],
      "source": [
        "# Обучим модель\n",
        "EPOCHS = 40\n",
        "STEPS_PER_EPOCH = 64\n",
        "\n",
        "history = model_1.fit(\n",
        "    train_data_gen,\n",
        "    epochs=EPOCHS,\n",
        "    validation_data=val_data_gen,\n",
        "    steps_per_epoch = STEPS_PER_EPOCH,\n",
        "    shuffle = True,\n",
        "    validation_freq=[0, 10, 20, 30, EPOCHS],\n",
        "    callbacks=[PlotLossesCallback()]) # мы добавили коллбек для отрисовки прогресса"
      ]
    },
    {
      "cell_type": "markdown",
      "metadata": {
        "id": "uXNBKVAsbyJh"
      },
      "source": [
        "##5.3 Сохраним модель"
      ]
    },
    {
      "cell_type": "code",
      "execution_count": null,
      "metadata": {
        "id": "ZzZbxNGy6mlh"
      },
      "outputs": [],
      "source": [
        "def save_model_and_acc_val(model, history, path, name):\n",
        "  '''\n",
        "  Функция сохранения модели. И сохранения данных обучения в csv: \n",
        "  categorical_accuracy и  val_categorical_accuracy\n",
        "  '''\n",
        "  fullpath = path + name\n",
        "  model.save(fullpath)\n",
        "  # Сохраним историю\n",
        "  cat_acc = pd.DataFrame(history.history['categorical_accuracy'])\n",
        "  cat_acc.to_csv(fullpath + 'cat_acc.csv')\n",
        "  val_cat_acc = pd.DataFrame(history.history['val_categorical_accuracy'])\n",
        "  val_cat_acc.to_csv(fullpath + 'cat_val_acc.csv')\n"
      ]
    },
    {
      "cell_type": "code",
      "execution_count": null,
      "metadata": {
        "id": "uUkFqQbt0SmM",
        "colab": {
          "base_uri": "https://localhost:8080/"
        },
        "outputId": "55309df9-28e1-439e-a3a0-d6f0b42b44a8"
      },
      "outputs": [
        {
          "output_type": "stream",
          "name": "stderr",
          "text": [
            "WARNING:absl:Found untraced functions such as _jit_compiled_convolution_op, _jit_compiled_convolution_op, _jit_compiled_convolution_op while saving (showing 3 of 3). These functions will not be directly callable after loading.\n"
          ]
        }
      ],
      "source": [
        "save_model_and_acc_val(model_1, history=history,\n",
        "                       path=path_old+'saved_models/model_1/',\n",
        "                       name='model_1_lr1e-4_epochs_160')"
      ]
    },
    {
      "cell_type": "markdown",
      "metadata": {
        "id": "JHAlORcwCI47"
      },
      "source": [
        "##5.4 Загрузка модели"
      ]
    },
    {
      "cell_type": "code",
      "execution_count": null,
      "metadata": {
        "id": "E74T8d7qCOxG"
      },
      "outputs": [],
      "source": [
        "model_1 = tf.keras.models.load_model(path_old + 'saved_models/model_1/model_1_epochs_120')"
      ]
    },
    {
      "cell_type": "markdown",
      "metadata": {
        "id": "mGqN8chY_oP3"
      },
      "source": [
        "## 5.5 Отобразим процесс обучения"
      ]
    },
    {
      "cell_type": "code",
      "execution_count": null,
      "metadata": {
        "colab": {
          "base_uri": "https://localhost:8080/",
          "height": 279
        },
        "id": "c5TvXslb_t_p",
        "outputId": "8beb525e-2e4b-424d-d805-6d19b9b1670c"
      },
      "outputs": [
        {
          "data": {
            "image/png": "[encoded data removed]",
            "text/plain": [
              "<Figure size 432x288 with 1 Axes>"
            ]
          },
          "metadata": {},
          "output_type": "display_data"
        }
      ],
      "source": [
        "def draw_history_from_epochs(path, epochs_steps):\n",
        "  epochs_acc= []\n",
        "  cat_acc, cat_val =  [], []\n",
        "\n",
        "  for i in range(len(epochs_steps)):\n",
        "    csv_path = path + str(epochs_steps[i]) \n",
        "    df_acc = pd.read_csv(csv_path + 'cat_acc.csv',names=['epoch','cat_acc'], skiprows=1)\n",
        "    df_val = pd.read_csv(csv_path + 'cat_val_acc.csv',names=['epoch','cat_val_acc'], skiprows=1)\n",
        "    \n",
        "    if i == 0:\n",
        "        epochs_acc.extend(list(df_acc['epoch'] + 1))\n",
        "    else:\n",
        "        epochs_acc.extend(list(df_acc['epoch'] + 1 + epochs_steps[i-1]))\n",
        "\n",
        "    cat_acc.extend(list(df_acc['cat_acc']))\n",
        "    cat_val.append(list(df_val['cat_val_acc'])[-1])\n",
        "\n",
        "  plt.plot(epochs_acc, cat_acc)\n",
        "  plt.plot(epochs_steps, cat_val)\n",
        "  plt.xlabel('Номер Эпохи')\n",
        "  plt.ylabel('Categorical_accuracy')\n",
        "  plt.legend(['Train', 'Val'])\n",
        "  plt.grid()\n",
        "  plt.show()\n",
        "\n",
        "epochs_steps = [10, 20, 30, 40, 50, 80, 120, 160]\n",
        "draw_history_from_epochs(path=path_old + 'saved_models/model_1/model_1_epochs_', epochs_steps=epochs_steps)"
      ]
    },
    {
      "cell_type": "markdown",
      "metadata": {
        "id": "VoV_-tVCozBx"
      },
      "source": [
        "##5.6 Выполним предсказания на тестовых данных"
      ]
    },
    {
      "cell_type": "code",
      "execution_count": null,
      "metadata": {
        "colab": {
          "base_uri": "https://localhost:8080/"
        },
        "id": "rFMJjALr-V7j",
        "outputId": "0dac8aea-24a7-45ea-8229-217694429b4c"
      },
      "outputs": [
        {
          "name": "stdout",
          "output_type": "stream",
          "text": [
            "Found 5000 images belonging to 1 classes.\n"
          ]
        }
      ],
      "source": [
        "# Создадим генератор, выдающий преобразованные тестовые данные\n",
        "test_image_generator = ImageDataGenerator(rescale=1./255)\n",
        "test_data_gen = test_image_generator.flow_from_directory(directory=path_test,\n",
        "                                                         batch_size=BATCH_SIZE,\n",
        "                                                         shuffle=False,\n",
        "                                                         target_size=(IMG_SHAPE,IMG_SHAPE),\n",
        "                                                         class_mode=None)"
      ]
    },
    {
      "cell_type": "code",
      "execution_count": null,
      "metadata": {
        "id": "ZbFQVIiA_rhp"
      },
      "outputs": [],
      "source": [
        "# Функция генерирования csv файла с предсказаниями\n",
        "def generate_prediction_csv(model, test_data_gen, name_of_file):\n",
        "  ''' Функция генерирования csv файла с предсказаниями'''\n",
        "  N = len(os.listdir(path_test_new))    # Количество тестовых рисунков\n",
        "  filenames = test_data_gen.filenames   # Имена файлов генератора\n",
        "  filenames = [filenames[i][2:] for i in range(N)]\n",
        "\n",
        "  pred = model.predict(test_data_gen, batch_size=BATCH_SIZE) # Предсказания\n",
        "  dict_pred = {'image_path':  filenames, 'emotion': emotions[np.argmax(pred, axis=1)]}    # Создаем словарь\n",
        "  df = pd.DataFrame(data=dict_pred)\n",
        "  # Отсортируем по порядку численному имена файлов\n",
        "  df['num'] = [int(x[:-4]) for x in df['image_path']]\n",
        "  df_pred = df.sort_values(by='num')[['image_path','emotion']]\n",
        "  df_pred.to_csv(name_of_file + '.csv', sep=',', index=False)\n",
        "  return df_pred"
      ]
    },
    {
      "cell_type": "code",
      "execution_count": null,
      "metadata": {
        "colab": {
          "background_save": true
        },
        "id": "CDvNRgxQ-nmN"
      },
      "outputs": [],
      "source": [
        "# Другой способ реализации Функции генерирования csv файла с предсказаниями\n",
        "'''\n",
        "def generate_prediction_csv(model, path_test, IMG_SHAPE, name_of_file):\n",
        "  # Функция генерирования csv файла с предсказаниями\n",
        "  N = len(os.listdir(path_test_new))\n",
        "  pred = {}\n",
        "  for i in range(N):\n",
        "    name = str(i) + '.jpg'\n",
        "    img = plt.imread(path_test + name)\n",
        "    img_mod = tf.image.resize(img, (IMG_SHAPE, IMG_SHAPE), tf.image.ResizeMethod.BILINEAR)\n",
        "    img_mod =  img_mod * 1./255\n",
        "    pred[name] = model.predict(img_mod[..., ::-1])\n",
        "\n",
        "  df_pred = pd.DataFrame(pred,columns=['image_path', 'emotion'])\n",
        "  df_pred.to_csv(name_of_file + '.csv', sep=',')\n",
        "  return df_pred\n",
        "'''\n",
        "\n",
        "# Третий способ - создать датафрейм и создать генератор по нему через .flow_from_dataframe"
      ]
    },
    {
      "cell_type": "code",
      "execution_count": null,
      "metadata": {
        "colab": {
          "base_uri": "https://localhost:8080/",
          "height": 258
        },
        "id": "XGbhMqVx_4tE",
        "outputId": "487b8d5c-ed85-4167-e637-31da0979e10e"
      },
      "outputs": [
        {
          "name": "stdout",
          "output_type": "stream",
          "text": [
            "40/40 [==============================] - 39s 958ms/step\n",
            "CPU times: user 35.2 s, sys: 800 ms, total: 36 s\n",
            "Wall time: 40.9 s\n"
          ]
        },
        {
          "data": {
            "text/html": [
              "\n",
              "  <div id=\"df-969d10c7-16b3-4181-8966-eb7d2f65c6e2\">\n",
              "    <div class=\"colab-df-container\">\n",
              "      <div>\n",
              "<style scoped>\n",
              "    .dataframe tbody tr th:only-of-type {\n",
              "        vertical-align: middle;\n",
              "    }\n",
              "\n",
              "    .dataframe tbody tr th {\n",
              "        vertical-align: top;\n",
              "    }\n",
              "\n",
              "    .dataframe thead th {\n",
              "        text-align: right;\n",
              "    }\n",
              "</style>\n",
              "<table border=\"1\" class=\"dataframe\">\n",
              "  <thead>\n",
              "    <tr style=\"text-align: right;\">\n",
              "      <th></th>\n",
              "      <th>image_path</th>\n",
              "      <th>emotion</th>\n",
              "    </tr>\n",
              "  </thead>\n",
              "  <tbody>\n",
              "    <tr>\n",
              "      <th>0</th>\n",
              "      <td>0.jpg</td>\n",
              "      <td>sad</td>\n",
              "    </tr>\n",
              "    <tr>\n",
              "      <th>1</th>\n",
              "      <td>1.jpg</td>\n",
              "      <td>neutral</td>\n",
              "    </tr>\n",
              "    <tr>\n",
              "      <th>1112</th>\n",
              "      <td>2.jpg</td>\n",
              "      <td>fear</td>\n",
              "    </tr>\n",
              "    <tr>\n",
              "      <th>2223</th>\n",
              "      <td>3.jpg</td>\n",
              "      <td>happy</td>\n",
              "    </tr>\n",
              "    <tr>\n",
              "      <th>3334</th>\n",
              "      <td>4.jpg</td>\n",
              "      <td>anger</td>\n",
              "    </tr>\n",
              "  </tbody>\n",
              "</table>\n",
              "</div>\n",
              "      <button class=\"colab-df-convert\" onclick=\"convertToInteractive('df-969d10c7-16b3-4181-8966-eb7d2f65c6e2')\"\n",
              "              title=\"Convert this dataframe to an interactive table.\"\n",
              "              style=\"display:none;\">\n",
              "        \n",
              "  <svg xmlns=\"http://www.w3.org/2000/svg\" height=\"24px\"viewBox=\"0 0 24 24\"\n",
              "       width=\"24px\">\n",
              "    <path d=\"M0 0h24v24H0V0z\" fill=\"none\"/>\n",
              "    <path d=\"M18.56 5.44l.94 2.06.94-2.06 2.06-.94-2.06-.94-.94-2.06-.94 2.06-2.06.94zm-11 1L8.5 8.5l.94-2.06 2.06-.94-2.06-.94L8.5 2.5l-.94 2.06-2.06.94zm10 10l.94 2.06.94-2.06 2.06-.94-2.06-.94-.94-2.06-.94 2.06-2.06.94z\"/><path d=\"M17.41 7.96l-1.37-1.37c-.4-.4-.92-.59-1.43-.59-.52 0-1.04.2-1.43.59L10.3 9.45l-7.72 7.72c-.78.78-.78 2.05 0 2.83L4 21.41c.39.39.9.59 1.41.59.51 0 1.02-.2 1.41-.59l7.78-7.78 2.81-2.81c.8-.78.8-2.07 0-2.86zM5.41 20L4 18.59l7.72-7.72 1.47 1.35L5.41 20z\"/>\n",
              "  </svg>\n",
              "      </button>\n",
              "      \n",
              "  <style>\n",
              "    .colab-df-container {\n",
              "      display:flex;\n",
              "      flex-wrap:wrap;\n",
              "      gap: 12px;\n",
              "    }\n",
              "\n",
              "    .colab-df-convert {\n",
              "      background-color: #E8F0FE;\n",
              "      border: none;\n",
              "      border-radius: 50%;\n",
              "      cursor: pointer;\n",
              "      display: none;\n",
              "      fill: #1967D2;\n",
              "      height: 32px;\n",
              "      padding: 0 0 0 0;\n",
              "      width: 32px;\n",
              "    }\n",
              "\n",
              "    .colab-df-convert:hover {\n",
              "      background-color: #E2EBFA;\n",
              "      box-shadow: 0px 1px 2px rgba(60, 64, 67, 0.3), 0px 1px 3px 1px rgba(60, 64, 67, 0.15);\n",
              "      fill: #174EA6;\n",
              "    }\n",
              "\n",
              "    [theme=dark] .colab-df-convert {\n",
              "      background-color: #3B4455;\n",
              "      fill: #D2E3FC;\n",
              "    }\n",
              "\n",
              "    [theme=dark] .colab-df-convert:hover {\n",
              "      background-color: #434B5C;\n",
              "      box-shadow: 0px 1px 3px 1px rgba(0, 0, 0, 0.15);\n",
              "      filter: drop-shadow(0px 1px 2px rgba(0, 0, 0, 0.3));\n",
              "      fill: #FFFFFF;\n",
              "    }\n",
              "  </style>\n",
              "\n",
              "      <script>\n",
              "        const buttonEl =\n",
              "          document.querySelector('#df-969d10c7-16b3-4181-8966-eb7d2f65c6e2 button.colab-df-convert');\n",
              "        buttonEl.style.display =\n",
              "          google.colab.kernel.accessAllowed ? 'block' : 'none';\n",
              "\n",
              "        async function convertToInteractive(key) {\n",
              "          const element = document.querySelector('#df-969d10c7-16b3-4181-8966-eb7d2f65c6e2');\n",
              "          const dataTable =\n",
              "            await google.colab.kernel.invokeFunction('convertToInteractive',\n",
              "                                                     [key], {});\n",
              "          if (!dataTable) return;\n",
              "\n",
              "          const docLinkHtml = 'Like what you see? Visit the ' +\n",
              "            '<a target=\"_blank\" href=https://colab.research.google.com/notebooks/data_table.ipynb>data table notebook</a>'\n",
              "            + ' to learn more about interactive tables.';\n",
              "          element.innerHTML = '';\n",
              "          dataTable['output_type'] = 'display_data';\n",
              "          await google.colab.output.renderOutput(dataTable, element);\n",
              "          const docLink = document.createElement('div');\n",
              "          docLink.innerHTML = docLinkHtml;\n",
              "          element.appendChild(docLink);\n",
              "        }\n",
              "      </script>\n",
              "    </div>\n",
              "  </div>\n",
              "  "
            ],
            "text/plain": [
              "     image_path  emotion\n",
              "0         0.jpg      sad\n",
              "1         1.jpg  neutral\n",
              "1112      2.jpg     fear\n",
              "2223      3.jpg    happy\n",
              "3334      4.jpg    anger"
            ]
          },
          "execution_count": 30,
          "metadata": {},
          "output_type": "execute_result"
        }
      ],
      "source": [
        "# Генерирую файл csv с предсказанием\n",
        "%%time\n",
        "df_pred = generate_prediction_csv(model_1, test_data_gen, path+'prediction_model_1_epochs_160')\n",
        "df_pred.head()"
      ]
    },
    {
      "cell_type": "markdown",
      "metadata": {
        "id": "1VL_O3HA6hH1"
      },
      "source": [
        "| IMG_SHAPE     | BATCH_SIZE  | EPOHS| Time, hours |   categorical_accuracy  | \n",
        "| ------------- |-------------|-----| ----------------------| ----------------------|\n",
        "|  64           | 128       | 30  | 4 |0.2356| \n",
        "|  64           | 128       | 40  | 5 |0.2532| \n",
        "|  64           | 128       | 60  | 6 |0.3017| \n",
        "|  64           | 128       | 80  | 7 |0.3406| \n",
        "|  64           | 256       | 60  |  |0.| "
      ]
    },
    {
      "cell_type": "code",
      "execution_count": null,
      "metadata": {
        "id": "45fd5bs0_a0d"
      },
      "outputs": [],
      "source": []
    },
    {
      "cell_type": "markdown",
      "metadata": {
        "id": "tmHTLfiC6ntL"
      },
      "source": [
        "# 6. Модель #2 - посложнее (больше слоев)"
      ]
    },
    {
      "cell_type": "code",
      "execution_count": null,
      "metadata": {
        "colab": {
          "base_uri": "https://localhost:8080/"
        },
        "id": "BSCPKtUs4DF1",
        "outputId": "359b5aa6-2e04-4477-fec5-156542315082"
      },
      "outputs": [
        {
          "name": "stdout",
          "output_type": "stream",
          "text": [
            "Model: \"sequential\"\n",
            "_________________________________________________________________\n",
            " Layer (type)                Output Shape              Param #   \n",
            "=================================================================\n",
            " conv2d (Conv2D)             (None, 32, 32, 32)        896       \n",
            "                                                                 \n",
            " conv2d_1 (Conv2D)           (None, 16, 16, 64)        18496     \n",
            "                                                                 \n",
            " conv2d_2 (Conv2D)           (None, 8, 8, 64)          36928     \n",
            "                                                                 \n",
            " conv2d_3 (Conv2D)           (None, 4, 4, 128)         73856     \n",
            "                                                                 \n",
            " conv2d_4 (Conv2D)           (None, 2, 2, 128)         147584    \n",
            "                                                                 \n",
            " batch_normalization (BatchN  (None, 2, 2, 128)        512       \n",
            " ormalization)                                                   \n",
            "                                                                 \n",
            " flatten (Flatten)           (None, 512)               0         \n",
            "                                                                 \n",
            " dense (Dense)               (None, 128)               65664     \n",
            "                                                                 \n",
            " dense_1 (Dense)             (None, 128)               16512     \n",
            "                                                                 \n",
            " dense_2 (Dense)             (None, 9)                 1161      \n",
            "                                                                 \n",
            "=================================================================\n",
            "Total params: 361,609\n",
            "Trainable params: 361,353\n",
            "Non-trainable params: 256\n",
            "_________________________________________________________________\n"
          ]
        }
      ],
      "source": [
        "model_2 = tf.keras.Sequential()\n",
        "model_2 .add(tf.keras.layers.Conv2D(filters=32, kernel_size=(3,3),\n",
        "                                 padding='same', activation='relu',\n",
        "                                 input_shape=(IMG_SHAPE,IMG_SHAPE,3),\n",
        "                                 strides=(2,2)))\n",
        "model_2 .add(tf.keras.layers.Conv2D(filters=64, kernel_size=(3,3),\n",
        "                                 padding='same', activation='relu',\n",
        "                                 strides=(2,2)))\n",
        "model_2 .add(tf.keras.layers.Conv2D(filters=64, kernel_size=(3,3),\n",
        "                                 padding='same', activation='relu',\n",
        "                                 strides=(2,2)))\n",
        "model_2 .add(tf.keras.layers.Conv2D(filters=128, kernel_size=(3,3),\n",
        "                                 padding='same', activation='relu',\n",
        "                                 strides=(2,2)))\n",
        "model_2 .add(tf.keras.layers.Conv2D(filters=128, kernel_size=(3,3),\n",
        "                                 padding='same', activation='relu',\n",
        "                                 strides=(2,2)))\n",
        "model_2.add(tf.keras.layers.BatchNormalization())\n",
        "model_2 .add(tf.keras.layers.Flatten())\n",
        "model_2 .add(tf.keras.layers.Dense(128, activation='relu'))\n",
        "model_2 .add(tf.keras.layers.Dense(128, activation='relu'))\n",
        "model_2 .add(tf.keras.layers.Dense(n_emotions, activation='softmax'))\n",
        "model_2.summary()"
      ]
    },
    {
      "cell_type": "code",
      "execution_count": null,
      "metadata": {
        "colab": {
          "base_uri": "https://localhost:8080/"
        },
        "id": "7QsHiXro4qZY",
        "outputId": "2de37efc-66d1-4ccd-b396-94cfdfbe5e9b"
      },
      "outputs": [
        {
          "output_type": "stream",
          "name": "stdout",
          "text": [
            "7.68 ms ± 3.43 ms per loop (mean ± std. dev. of 10 runs, 10 loops each)\n"
          ]
        }
      ],
      "source": [
        "%%timeit -n 10 -r 10\n",
        "q_opt = model_2(np.random.rand(1, IMG_SHAPE, IMG_SHAPE, 3).astype(np.float32))"
      ]
    },
    {
      "cell_type": "code",
      "execution_count": null,
      "metadata": {
        "id": "Kdy163t24qZZ"
      },
      "outputs": [],
      "source": [
        "# Скомпилируем модель\n",
        "optimizer = tf.keras.optimizers.Adam(learning_rate=1e-5)\n",
        "loss = tf.keras.losses.CategoricalCrossentropy()\n",
        "model_2.compile(optimizer=optimizer,\n",
        "              loss=loss,\n",
        "              metrics=['accuracy', 'categorical_accuracy'])\n",
        "\n",
        "checkpoint = tf.keras.callbacks.ModelCheckpoint(\n",
        "             filepath= path_old + 'saved_models/model_2/model_2_checkpoint',\n",
        "             monitor='accuracy', verbose=1, save_best_only=True,\n",
        "             mode='max')"
      ]
    },
    {
      "cell_type": "code",
      "execution_count": null,
      "metadata": {
        "colab": {
          "base_uri": "https://localhost:8080/",
          "height": 1000
        },
        "id": "wLG-gxV64qZa",
        "outputId": "d5e59a56-9a75-4a9c-e844-a9c8327c36ce"
      },
      "outputs": [
        {
          "output_type": "display_data",
          "data": {
            "text/plain": [
              "<Figure size 864x864 with 4 Axes>"
            ],
            "image/png": "[encoded data removed]"
          },
          "metadata": {
            "needs_background": "light"
          }
        },
        {
          "output_type": "stream",
          "name": "stdout",
          "text": [
            "accuracy\n",
            "\ttraining         \t (min:    0.427, max:    0.435, cur:    0.435)\n",
            "\tvalidation       \t (min:    0.405, max:    0.410, cur:    0.409)\n",
            "categorical_accuracy\n",
            "\ttraining         \t (min:    0.427, max:    0.435, cur:    0.435)\n",
            "\tvalidation       \t (min:    0.405, max:    0.410, cur:    0.409)\n",
            "Loss\n",
            "\ttraining         \t (min:    1.554, max:    1.569, cur:    1.555)\n",
            "\tvalidation       \t (min:    1.611, max:    1.624, cur:    1.622)\n",
            "\n",
            "Epoch 7: accuracy improved from 0.43219 to 0.43470, saving model to /content/drive/MyDrive/SKILLBOX/FinalWorks/ML/saved_models/model_2/model_2_checkpoint\n"
          ]
        },
        {
          "output_type": "stream",
          "name": "stderr",
          "text": [
            "WARNING:absl:Found untraced functions such as _jit_compiled_convolution_op, _jit_compiled_convolution_op, _jit_compiled_convolution_op, _jit_compiled_convolution_op, _jit_compiled_convolution_op while saving (showing 5 of 5). These functions will not be directly callable after loading.\n"
          ]
        },
        {
          "output_type": "stream",
          "name": "stdout",
          "text": [
            "\b\b\b\b\b\b\b\b\b\b\b\b\b\b\b\b\b\b\b\b\b\b\b\b\b\b\b\b\b\b\b\b\b\b\b\b\b\b\b\b\b\b\b\b\b\b\b\b\b\b\b\b\b\b\b\b\b\b\b\b\b\b\b\b\b\b\b\b\b\b\b\b\b\b\b\b\b\b\b\b\b\b\b\b\b\b\b\b\b\b\b\b\b\b\b\b\b\b\b\b\b\b\b\b\b\b\b\b\b\b\b\b\b\r64/64 [==============================] - 348s 5s/step - loss: 1.5554 - accuracy: 0.4347 - categorical_accuracy: 0.4347 - val_loss: 1.6217 - val_accuracy: 0.4094 - val_categorical_accuracy: 0.4094\n",
            "Epoch 8/40\n",
            " 4/64 [>.............................] - ETA: 4:02 - loss: 1.5685 - accuracy: 0.4170 - categorical_accuracy: 0.4170"
          ]
        }
      ],
      "source": [
        "# Обучим модель\n",
        "EPOCHS = 40\n",
        "STEPS_PER_EPOCH = 64\n",
        "\n",
        "history = model_2.fit(\n",
        "    train_data_gen,\n",
        "    epochs=EPOCHS,\n",
        "    validation_data=val_data_gen,\n",
        "    steps_per_epoch = STEPS_PER_EPOCH,\n",
        "    shuffle = True,\n",
        "    #validation_freq=[0, 10, 20, 30, EPOCHS],\n",
        "    callbacks=[PlotLossesCallback(), checkpoint]) # добавим коллбек для отрисовки прогресса"
      ]
    },
    {
      "cell_type": "markdown",
      "metadata": {
        "id": "-YC1Tnd_5Bm5"
      },
      "source": [
        "##6.3 Сохраним модель"
      ]
    },
    {
      "cell_type": "code",
      "execution_count": null,
      "metadata": {
        "id": "aTQae6zX5Bm7",
        "colab": {
          "base_uri": "https://localhost:8080/"
        },
        "outputId": "d4319af9-b25b-4dc7-8eb7-5cfdee21e63e"
      },
      "outputs": [
        {
          "output_type": "stream",
          "name": "stderr",
          "text": [
            "WARNING:absl:Found untraced functions such as _jit_compiled_convolution_op, _jit_compiled_convolution_op, _jit_compiled_convolution_op, _jit_compiled_convolution_op, _jit_compiled_convolution_op while saving (showing 5 of 5). These functions will not be directly callable after loading.\n"
          ]
        }
      ],
      "source": [
        "save_model_and_acc_val(model_2, history=history,\n",
        "                       path=path_old+'saved_models/model_2/',\n",
        "                       name='model_2_epochs_100')"
      ]
    },
    {
      "cell_type": "code",
      "execution_count": null,
      "metadata": {
        "id": "O2qA-XiQc5r3"
      },
      "outputs": [],
      "source": [
        "ewjkjjj"
      ]
    },
    {
      "cell_type": "code",
      "execution_count": null,
      "metadata": {
        "id": "qPYa2ZtOKcs5"
      },
      "outputs": [],
      "source": []
    },
    {
      "cell_type": "markdown",
      "metadata": {
        "id": "XrIy0Qmq5Bm8"
      },
      "source": [
        "##6.4 Загрузка модели"
      ]
    },
    {
      "cell_type": "code",
      "execution_count": null,
      "metadata": {
        "id": "BDxSI7cD5Bm9"
      },
      "outputs": [],
      "source": [
        "model_2 = tf.keras.models.load_model(path_old + 'saved_models/model_2/model_2_epochs_24')"
      ]
    },
    {
      "cell_type": "code",
      "execution_count": null,
      "metadata": {
        "id": "5Ii7ehg21xYN"
      },
      "outputs": [],
      "source": [
        "model_2 = tf.keras.models.load_model(path_old + 'saved_models/model_2/model_2_checkpoint')"
      ]
    },
    {
      "cell_type": "markdown",
      "metadata": {
        "id": "WeQR9A5xEV7Z"
      },
      "source": [
        "## 6.5 Отобразим процесс обучения"
      ]
    },
    {
      "cell_type": "code",
      "execution_count": null,
      "metadata": {
        "id": "rKCPTnsnEV7b"
      },
      "outputs": [],
      "source": [
        "epochs_steps = [10, 20, 60]\n",
        "draw_history_from_epochs(path=path_old + 'saved_models/model_2/model_2_epochs_', epochs_steps=epochs_steps)"
      ]
    },
    {
      "cell_type": "markdown",
      "metadata": {
        "id": "GzjWZ26lFIpI"
      },
      "source": [
        "#7. Оптимизация модели"
      ]
    },
    {
      "cell_type": "code",
      "execution_count": null,
      "metadata": {
        "id": "-0BmUAdcFMQi"
      },
      "outputs": [],
      "source": [
        "gdegrgwer"
      ]
    },
    {
      "cell_type": "code",
      "execution_count": null,
      "metadata": {
        "id": "2qyvObQs2WkN"
      },
      "outputs": [],
      "source": []
    },
    {
      "cell_type": "code",
      "execution_count": null,
      "metadata": {
        "id": "G7rePxJ4QiZg"
      },
      "outputs": [],
      "source": []
    },
    {
      "cell_type": "code",
      "execution_count": null,
      "metadata": {
        "id": "7mvHPzV-QkC7"
      },
      "outputs": [],
      "source": []
    },
    {
      "cell_type": "markdown",
      "metadata": {
        "id": "yFXAsuyvQlEC"
      },
      "source": [
        "# 8. Определение эмоции по видео с камеры"
      ]
    },
    {
      "cell_type": "code",
      "execution_count": null,
      "metadata": {
        "id": "vdtPYqJ6Qpjz"
      },
      "outputs": [],
      "source": [
        "import cv2\n",
        "#from google.colab.patches import cv2_imshow"
      ]
    },
    {
      "cell_type": "code",
      "execution_count": null,
      "metadata": {
        "colab": {
          "base_uri": "https://localhost:8080/"
        },
        "id": "ymQNRNAyQ370",
        "outputId": "c490a036-9fd2-4d25-c30e-a9961b380ad1"
      },
      "outputs": [
        {
          "name": "stdout",
          "output_type": "stream",
          "text": [
            "False\n"
          ]
        }
      ],
      "source": [
        "cam_port = 0\n",
        "cam = cv2.VideoCapture(cam_port)\n",
        "  \n",
        "# reading the input using the camera\n",
        "result, image = cam.read()\n",
        "print(result)\n",
        "if result:\n",
        "    cv2.imshow(\"GeeksForGeeks\", image)\n",
        "    cv2.waitKey(1)"
      ]
    }
  ],
  "metadata": {
    "accelerator": "GPU",
    "colab": {
      "provenance": [],
      "authorship_tag": "ABX9TyMAdd8MMhQMKm+5AADXxfMA",
      "include_colab_link": true
    },
    "gpuClass": "standard",
    "kernelspec": {
      "display_name": "Python 3",
      "name": "python3"
    },
    "language_info": {
      "name": "python"
    }
  },
  "nbformat": 4,
  "nbformat_minor": 0
}