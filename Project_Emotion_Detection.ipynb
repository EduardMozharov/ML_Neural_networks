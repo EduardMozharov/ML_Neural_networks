{
  "nbformat": 4,
  "nbformat_minor": 0,
  "metadata": {
    "colab": {
      "provenance": [],
      "authorship_tag": "ABX9TyOVAdfMyVD17itU5CEdPLdC",
      "include_colab_link": true
    },
    "kernelspec": {
      "name": "python3",
      "display_name": "Python 3"
    },
    "language_info": {
      "name": "python"
    }
  },
  "cells": [
    {
      "cell_type": "markdown",
      "metadata": {
        "id": "view-in-github",
        "colab_type": "text"
      },
      "source": [
        "<a href=\"https://colab.research.google.com/github/EduardMozharov/ML_Neural_networks/blob/main/Project_Emotion_Detection.ipynb\" target=\"_parent\"><img src=\"https://colab.research.google.com/assets/colab-badge.svg\" alt=\"Open In Colab\"/></a>"
      ]
    },
    {
      "cell_type": "markdown",
      "source": [
        "#Project \"Emotion Detection\"\n",
        "Итоговая работа курса SKILLBOX:  \n",
        "Data Science. ML. Средний уровень (Нейронны сети))"
      ],
      "metadata": {
        "id": "6-rtcvZC8QG4"
      }
    },
    {
      "cell_type": "markdown",
      "source": [
        "# Задание\n",
        "**Цель** - реализовать нейронную сеть, распознающую эмоции\n",
        "\n",
        "**Задачи:**\n",
        "1. Работа требует реализации алгоритма, с помощью которого будет происходить заданная классификация. Приветствуется использование архитектур свёрточных нейронных сетей, разобранных во время теоретических занятий. Время инференса сети на Google Colab не должно превышать 0,33 секунды (3 кадра в секунду).\n",
        "\n",
        "2. Создать скрипт, который будет работать с их веб-камерами и выводить на экран текущую эмоцию.\n"
      ],
      "metadata": {
        "id": "QGJ7TyGF7J-V"
      }
    },
    {
      "cell_type": "markdown",
      "source": [
        "# 1 Загрузим необходимые библиотеки"
      ],
      "metadata": {
        "id": "lFYqw13S8N6S"
      }
    },
    {
      "cell_type": "code",
      "source": [
        "!pip install livelossplot\n",
        "\n",
        "# Для работы оптимизатора TensorRT может потребоваться предыдущая версия tensorflow\n",
        "#!pip install -U tensorflow==2.7.0\n",
        "#!pip install keras==2.6.*"
      ],
      "metadata": {
        "id": "HgV-Yz4LDJRe"
      },
      "execution_count": null,
      "outputs": []
    },
    {
      "cell_type": "code",
      "source": [
        "import numpy as np\n",
        "import pandas as pd\n",
        "import matplotlib.pyplot as plt\n",
        "\n",
        "import tensorflow as tf\n",
        "print('TensorFlow version:', tf.__version__)\n",
        "from livelossplot.tf_keras  import PlotLossesCallback\n",
        "\n",
        "import timeit"
      ],
      "metadata": {
        "id": "WjdfMLtG7Fbq",
        "colab": {
          "base_uri": "https://localhost:8080/"
        },
        "outputId": "03ecc38d-b4c4-40c6-cc93-e49e7964bf5f"
      },
      "execution_count": 3,
      "outputs": [
        {
          "output_type": "stream",
          "name": "stdout",
          "text": [
            "TensorFlow version: 2.9.2\n"
          ]
        }
      ]
    },
    {
      "cell_type": "markdown",
      "source": [
        "#2. Загрузим данные и рассмотрим их"
      ],
      "metadata": {
        "id": "ry-ZzkcCDEz0"
      }
    },
    {
      "cell_type": "code",
      "source": [],
      "metadata": {
        "id": "b0fDDmOa7Fe1"
      },
      "execution_count": null,
      "outputs": []
    },
    {
      "cell_type": "code",
      "source": [],
      "metadata": {
        "id": "gwIE259M7Fj1"
      },
      "execution_count": null,
      "outputs": []
    },
    {
      "cell_type": "markdown",
      "source": [
        "#3. Модель"
      ],
      "metadata": {
        "id": "Hg_Jy99XDZ24"
      }
    },
    {
      "cell_type": "code",
      "source": [],
      "metadata": {
        "id": "s7Sflvsp7Fmy"
      },
      "execution_count": null,
      "outputs": []
    },
    {
      "cell_type": "code",
      "source": [],
      "metadata": {
        "id": "miMwc8x07FpI"
      },
      "execution_count": null,
      "outputs": []
    },
    {
      "cell_type": "markdown",
      "source": [
        "#4. Обучение модели"
      ],
      "metadata": {
        "id": "dZBjOklbDjjN"
      }
    },
    {
      "cell_type": "code",
      "source": [],
      "metadata": {
        "id": "pxvp4MIqDn01"
      },
      "execution_count": null,
      "outputs": []
    }
  ]
}