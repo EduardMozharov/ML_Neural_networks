{
  "nbformat": 4,
  "nbformat_minor": 0,
  "metadata": {
    "colab": {
      "provenance": [],
      "authorship_tag": "ABX9TyN+4E+eOocG0cNZTNwvMPUQ",
      "include_colab_link": true
    },
    "kernelspec": {
      "name": "python3",
      "display_name": "Python 3"
    },
    "language_info": {
      "name": "python"
    }
  },
  "cells": [
    {
      "cell_type": "markdown",
      "metadata": {
        "id": "view-in-github",
        "colab_type": "text"
      },
      "source": [
        "<a href=\"https://colab.research.google.com/github/EduardMozharov/ML_Neural_networks/blob/main/Project_Emotion_Detection.ipynb\" target=\"_parent\"><img src=\"https://colab.research.google.com/assets/colab-badge.svg\" alt=\"Open In Colab\"/></a>"
      ]
    },
    {
      "cell_type": "markdown",
      "source": [
        "#Project \"Emotion Detection\"\n",
        "Итоговая работа курса SKILLBOX:  \n",
        "Data Science. ML. Средний уровень (Нейронны сети))"
      ],
      "metadata": {
        "id": "6-rtcvZC8QG4"
      }
    },
    {
      "cell_type": "markdown",
      "source": [
        "# Задание\n",
        "**Цель** - реализовать нейронную сеть, распознающую эмоции\n",
        "\n",
        "**Задачи:**\n",
        "1. Работа требует реализации алгоритма, с помощью которого будет происходить заданная классификация. Приветствуется использование архитектур свёрточных нейронных сетей, разобранных во время теоретических занятий. Время инференса сети на Google Colab не должно превышать 0,33 секунды (3 кадра в секунду).\n",
        "\n",
        "2. Создать скрипт, который будет работать с их веб-камерами и выводить на экран текущую эмоцию.\n",
        "\n",
        "\n",
        "**Дополнительно:**  \n",
        "1. Используйте подходы по искусственному увеличению датасета для обучения, а именно — аргументации, рассмотренные в курсе.\n",
        "2. Используйте продвинутые техники обучения, такие как finetuning и другие, рассмотренные в курсе.\n",
        "3. Пишите структурный код (основная логика кода должна быть вынесена в классы/методы/функции + осмысленный нейминг сущностей и комментарии).\n",
        "4. Проведите эксперименты с valence-arousal разложением эмоций, когда модель обучается не на самих эмоциях, а на их разложении по этим двум компонентам. Информация о подобном разложении есть в дополнительных материалах.\n",
        "\n",
        " \n",
        "Работающий прототип из пункта «Улучшение и дополнения к заданию» прибавляет один балл к итоговой оценке и добавляет в портфолио ценный ML-проект.\n",
        "\n",
        "\n"
      ],
      "metadata": {
        "id": "QGJ7TyGF7J-V"
      }
    },
    {
      "cell_type": "markdown",
      "source": [
        "# 1 Загрузим необходимые библиотеки"
      ],
      "metadata": {
        "id": "lFYqw13S8N6S"
      }
    },
    {
      "cell_type": "code",
      "source": [
        "DO_IT = True # Выполнять ли особые части кода"
      ],
      "metadata": {
        "id": "_GpsIZFfNN1h"
      },
      "execution_count": null,
      "outputs": []
    },
    {
      "cell_type": "code",
      "source": [
        "!pip install livelossplot\n",
        "\n",
        "# Для работы оптимизатора TensorRT может потребоваться предыдущая версия tensorflow\n",
        "#!pip install -U tensorflow==2.7.0\n",
        "#!pip install keras==2.6.*"
      ],
      "metadata": {
        "id": "HgV-Yz4LDJRe"
      },
      "execution_count": null,
      "outputs": []
    },
    {
      "cell_type": "code",
      "source": [
        "import numpy as np\n",
        "import pandas as pd\n",
        "import matplotlib.pyplot as plt\n",
        "import osb\n",
        "import random\n",
        "\n",
        "import tensorflow as tf\n",
        "print('TensorFlow version:', tf.__version__)\n",
        "from tensorflow.keras.preprocessing.image import ImageDataGenerator\n",
        "#from livelossplot.tf_keras  import PlotLossesCallback\n",
        "\n",
        "import timeit"
      ],
      "metadata": {
        "id": "WjdfMLtG7Fbq",
        "colab": {
          "base_uri": "https://localhost:8080/"
        },
        "outputId": "34aefeaa-4ead-4b34-99a8-b1c803f7ea97"
      },
      "execution_count": 12,
      "outputs": [
        {
          "output_type": "stream",
          "name": "stdout",
          "text": [
            "TensorFlow version: 2.9.2\n"
          ]
        }
      ]
    },
    {
      "cell_type": "markdown",
      "source": [],
      "metadata": {
        "id": "5_mOHFyMFHi6"
      }
    },
    {
      "cell_type": "markdown",
      "source": [
        "#2. Загрузим данные и рассмотрим их"
      ],
      "metadata": {
        "id": "ry-ZzkcCDEz0"
      }
    },
    {
      "cell_type": "code",
      "source": [],
      "metadata": {
        "id": "7pDEj_N4GjrF"
      },
      "execution_count": null,
      "outputs": []
    },
    {
      "cell_type": "markdown",
      "source": [
        "## 2.1 Загрузим рисунки"
      ],
      "metadata": {
        "id": "5IIJnMrPGlbh"
      }
    },
    {
      "cell_type": "code",
      "source": [
        "from google.colab import drive\n",
        "drive.mount('/content/drive/')"
      ],
      "metadata": {
        "id": "b0fDDmOa7Fe1",
        "colab": {
          "base_uri": "https://localhost:8080/"
        },
        "outputId": "8c23786d-ab2d-442d-aed2-df0e0cca2a7a"
      },
      "execution_count": 3,
      "outputs": [
        {
          "output_type": "stream",
          "name": "stdout",
          "text": [
            "Mounted at /content/drive/\n"
          ]
        }
      ]
    },
    {
      "cell_type": "code",
      "source": [
        "# Один раз загрузим и разархивируем данные на личный диск,\n",
        "# чтобы каждый раз заново не загружать данные\n",
        "path = '/content/drive/MyDrive/SKILLBOX/FinalWorks/ML/'\n",
        "#os.chdir(path)\n",
        "#!unzip -q train.zip\n",
        "#!unzip -q test_kaggle.zip"
      ],
      "metadata": {
        "id": "ySo-LjBxIEuP"
      },
      "execution_count": 4,
      "outputs": []
    },
    {
      "cell_type": "markdown",
      "source": [
        "## 2.2. Загрузим табличные данные и рассмотрим их"
      ],
      "metadata": {
        "id": "n5cRRadcGtXU"
      }
    },
    {
      "cell_type": "code",
      "source": [
        "# Загрузим таблицу с описанием данных train\n",
        "df = pd.read_csv(path+'train.csv')\n",
        "n_data = df.shape[0]\n",
        "print('Количество строк данных', n_data)\n",
        "df.head()"
      ],
      "metadata": {
        "id": "bNQYE2-pJkLx",
        "colab": {
          "base_uri": "https://localhost:8080/",
          "height": 224
        },
        "outputId": "582c0bed-c9a9-4cdf-d84d-449ef773b73c"
      },
      "execution_count": 5,
      "outputs": [
        {
          "output_type": "stream",
          "name": "stdout",
          "text": [
            "Количество строк данных 50046\n"
          ]
        },
        {
          "output_type": "execute_result",
          "data": {
            "text/plain": [
              "   Unnamed: 0              image_path emotion\n",
              "0           0     ./train/anger/0.jpg   anger\n",
              "1           1     ./train/anger/1.jpg   anger\n",
              "2           2    ./train/anger/10.jpg   anger\n",
              "3           3   ./train/anger/100.jpg   anger\n",
              "4           4  ./train/anger/1000.jpg   anger"
            ],
            "text/html": [
              "\n",
              "  <div id=\"df-c9967dad-aacb-4cdc-a418-868364474356\">\n",
              "    <div class=\"colab-df-container\">\n",
              "      <div>\n",
              "<style scoped>\n",
              "    .dataframe tbody tr th:only-of-type {\n",
              "        vertical-align: middle;\n",
              "    }\n",
              "\n",
              "    .dataframe tbody tr th {\n",
              "        vertical-align: top;\n",
              "    }\n",
              "\n",
              "    .dataframe thead th {\n",
              "        text-align: right;\n",
              "    }\n",
              "</style>\n",
              "<table border=\"1\" class=\"dataframe\">\n",
              "  <thead>\n",
              "    <tr style=\"text-align: right;\">\n",
              "      <th></th>\n",
              "      <th>Unnamed: 0</th>\n",
              "      <th>image_path</th>\n",
              "      <th>emotion</th>\n",
              "    </tr>\n",
              "  </thead>\n",
              "  <tbody>\n",
              "    <tr>\n",
              "      <th>0</th>\n",
              "      <td>0</td>\n",
              "      <td>./train/anger/0.jpg</td>\n",
              "      <td>anger</td>\n",
              "    </tr>\n",
              "    <tr>\n",
              "      <th>1</th>\n",
              "      <td>1</td>\n",
              "      <td>./train/anger/1.jpg</td>\n",
              "      <td>anger</td>\n",
              "    </tr>\n",
              "    <tr>\n",
              "      <th>2</th>\n",
              "      <td>2</td>\n",
              "      <td>./train/anger/10.jpg</td>\n",
              "      <td>anger</td>\n",
              "    </tr>\n",
              "    <tr>\n",
              "      <th>3</th>\n",
              "      <td>3</td>\n",
              "      <td>./train/anger/100.jpg</td>\n",
              "      <td>anger</td>\n",
              "    </tr>\n",
              "    <tr>\n",
              "      <th>4</th>\n",
              "      <td>4</td>\n",
              "      <td>./train/anger/1000.jpg</td>\n",
              "      <td>anger</td>\n",
              "    </tr>\n",
              "  </tbody>\n",
              "</table>\n",
              "</div>\n",
              "      <button class=\"colab-df-convert\" onclick=\"convertToInteractive('df-c9967dad-aacb-4cdc-a418-868364474356')\"\n",
              "              title=\"Convert this dataframe to an interactive table.\"\n",
              "              style=\"display:none;\">\n",
              "        \n",
              "  <svg xmlns=\"http://www.w3.org/2000/svg\" height=\"24px\"viewBox=\"0 0 24 24\"\n",
              "       width=\"24px\">\n",
              "    <path d=\"M0 0h24v24H0V0z\" fill=\"none\"/>\n",
              "    <path d=\"M18.56 5.44l.94 2.06.94-2.06 2.06-.94-2.06-.94-.94-2.06-.94 2.06-2.06.94zm-11 1L8.5 8.5l.94-2.06 2.06-.94-2.06-.94L8.5 2.5l-.94 2.06-2.06.94zm10 10l.94 2.06.94-2.06 2.06-.94-2.06-.94-.94-2.06-.94 2.06-2.06.94z\"/><path d=\"M17.41 7.96l-1.37-1.37c-.4-.4-.92-.59-1.43-.59-.52 0-1.04.2-1.43.59L10.3 9.45l-7.72 7.72c-.78.78-.78 2.05 0 2.83L4 21.41c.39.39.9.59 1.41.59.51 0 1.02-.2 1.41-.59l7.78-7.78 2.81-2.81c.8-.78.8-2.07 0-2.86zM5.41 20L4 18.59l7.72-7.72 1.47 1.35L5.41 20z\"/>\n",
              "  </svg>\n",
              "      </button>\n",
              "      \n",
              "  <style>\n",
              "    .colab-df-container {\n",
              "      display:flex;\n",
              "      flex-wrap:wrap;\n",
              "      gap: 12px;\n",
              "    }\n",
              "\n",
              "    .colab-df-convert {\n",
              "      background-color: #E8F0FE;\n",
              "      border: none;\n",
              "      border-radius: 50%;\n",
              "      cursor: pointer;\n",
              "      display: none;\n",
              "      fill: #1967D2;\n",
              "      height: 32px;\n",
              "      padding: 0 0 0 0;\n",
              "      width: 32px;\n",
              "    }\n",
              "\n",
              "    .colab-df-convert:hover {\n",
              "      background-color: #E2EBFA;\n",
              "      box-shadow: 0px 1px 2px rgba(60, 64, 67, 0.3), 0px 1px 3px 1px rgba(60, 64, 67, 0.15);\n",
              "      fill: #174EA6;\n",
              "    }\n",
              "\n",
              "    [theme=dark] .colab-df-convert {\n",
              "      background-color: #3B4455;\n",
              "      fill: #D2E3FC;\n",
              "    }\n",
              "\n",
              "    [theme=dark] .colab-df-convert:hover {\n",
              "      background-color: #434B5C;\n",
              "      box-shadow: 0px 1px 3px 1px rgba(0, 0, 0, 0.15);\n",
              "      filter: drop-shadow(0px 1px 2px rgba(0, 0, 0, 0.3));\n",
              "      fill: #FFFFFF;\n",
              "    }\n",
              "  </style>\n",
              "\n",
              "      <script>\n",
              "        const buttonEl =\n",
              "          document.querySelector('#df-c9967dad-aacb-4cdc-a418-868364474356 button.colab-df-convert');\n",
              "        buttonEl.style.display =\n",
              "          google.colab.kernel.accessAllowed ? 'block' : 'none';\n",
              "\n",
              "        async function convertToInteractive(key) {\n",
              "          const element = document.querySelector('#df-c9967dad-aacb-4cdc-a418-868364474356');\n",
              "          const dataTable =\n",
              "            await google.colab.kernel.invokeFunction('convertToInteractive',\n",
              "                                                     [key], {});\n",
              "          if (!dataTable) return;\n",
              "\n",
              "          const docLinkHtml = 'Like what you see? Visit the ' +\n",
              "            '<a target=\"_blank\" href=https://colab.research.google.com/notebooks/data_table.ipynb>data table notebook</a>'\n",
              "            + ' to learn more about interactive tables.';\n",
              "          element.innerHTML = '';\n",
              "          dataTable['output_type'] = 'display_data';\n",
              "          await google.colab.output.renderOutput(dataTable, element);\n",
              "          const docLink = document.createElement('div');\n",
              "          docLink.innerHTML = docLinkHtml;\n",
              "          element.appendChild(docLink);\n",
              "        }\n",
              "      </script>\n",
              "    </div>\n",
              "  </div>\n",
              "  "
            ]
          },
          "metadata": {},
          "execution_count": 5
        }
      ]
    },
    {
      "cell_type": "code",
      "source": [
        "emotions = df.emotion.unique()\n",
        "n_emotions = emotions.shape[0]\n",
        "\n",
        "print(\"Всего эмоций {}: {} \".format(n_emotions, emotions))"
      ],
      "metadata": {
        "colab": {
          "base_uri": "https://localhost:8080/"
        },
        "id": "bd4_uq3fGMxS",
        "outputId": "63b5075e-27d2-4ca9-fa77-fa86636973ff"
      },
      "execution_count": 6,
      "outputs": [
        {
          "output_type": "stream",
          "name": "stdout",
          "text": [
            "Всего эмоций 9: ['anger' 'contempt' 'disgust' 'fear' 'happy' 'neutral' 'sad' 'surprise'\n",
            " 'uncertain'] \n"
          ]
        }
      ]
    },
    {
      "cell_type": "markdown",
      "source": [
        "**image_path** - строка, являющаюся путем до изображения в случае обучения или названием изображения в случае теста  \n",
        "**emotion** - строка, характеризующая эмоцию  \n",
        "\n",
        "  \n",
        "В данном задании требуется предсказать 9 базовых эмоций, таких как:  \n",
        "* **neutral** - нейтральная эмоция\n",
        "* **anger**- гнев, злость\n",
        "* **contempt** - презрение\n",
        "* **disgust** - отвращение\n",
        "* **fear** - страх\n",
        "* **happy** - веселый\n",
        "* **sad** - грусть\n",
        "* **surprise** - удивленность\n",
        "* **uncertain** - неуверенность"
      ],
      "metadata": {
        "id": "8tGSh7qfG7SH"
      }
    },
    {
      "cell_type": "code",
      "source": [
        "df_count = df.groupby('emotion').count()['image_path']\n",
        "df_count"
      ],
      "metadata": {
        "colab": {
          "base_uri": "https://localhost:8080/"
        },
        "id": "oa2hdPBUIBqF",
        "outputId": "870519d5-daba-4ea9-f2ea-0fc0f317b3c6"
      },
      "execution_count": 7,
      "outputs": [
        {
          "output_type": "execute_result",
          "data": {
            "text/plain": [
              "emotion\n",
              "anger        7022\n",
              "contempt     3085\n",
              "disgust      3155\n",
              "fear         5044\n",
              "happy        5955\n",
              "neutral      6795\n",
              "sad          6740\n",
              "surprise     6323\n",
              "uncertain    5927\n",
              "Name: image_path, dtype: int64"
            ]
          },
          "metadata": {},
          "execution_count": 7
        }
      ]
    },
    {
      "cell_type": "markdown",
      "source": [
        "## 2.3 Рассмотрим рисунки"
      ],
      "metadata": {
        "id": "BVbrtcdmHj6h"
      }
    },
    {
      "cell_type": "code",
      "source": [
        "def show_test_img(img_ind=1):\n",
        "  img = plt.imread(path+df['image_path'][img_ind][2:])\n",
        "  plt.imshow(img)\n",
        "  plt.title(df['emotion'][img_ind])\n",
        "\n",
        "def show_random_test_img(n_img=10):\n",
        "  \n",
        "  #axs = plt.Figure(figsize=(), )\n",
        "  img_ind = random.randint(0, n_data)\n",
        "  show_test_img(img_ind)"
      ],
      "metadata": {
        "id": "YUc6rnpVHogt"
      },
      "execution_count": 8,
      "outputs": []
    },
    {
      "cell_type": "code",
      "source": [
        "show_test_img(1)"
      ],
      "metadata": {
        "colab": {
          "base_uri": "https://localhost:8080/",
          "height": 281
        },
        "id": "SKeKam6PKFIi",
        "outputId": "09cbf88f-41f0-409f-8462-4d398d79aec2"
      },
      "execution_count": 11,
      "outputs": [
        {
          "output_type": "display_data",
          "data": {
            "text/plain": [
              "<Figure size 432x288 with 1 Axes>"
            ],
            "image/png": "[encoded data removed]"
          },
          "metadata": {
            "needs_background": "light"
          }
        }
      ]
    },
    {
      "cell_type": "code",
      "source": [],
      "metadata": {
        "id": "A-BGVBRPwxJa"
      },
      "execution_count": null,
      "outputs": []
    },
    {
      "cell_type": "markdown",
      "source": [
        "# 3. Подготовка данных. Аугментация.\n"
      ],
      "metadata": {
        "id": "p9RfjZxWwx3Q"
      }
    },
    {
      "cell_type": "code",
      "source": [
        "BATCH_SIZE = 100\n",
        "IMG_SHAPE  = 150 \n",
        "\n"
      ],
      "metadata": {
        "id": "_oOAgSfBxW40"
      },
      "execution_count": 15,
      "outputs": []
    },
    {
      "cell_type": "code",
      "source": [
        "(x_train, y_train), (x_test, y_test) = tf.keras.preprocessing"
      ],
      "metadata": {
        "id": "AL2sjR6o85Hr"
      },
      "execution_count": null,
      "outputs": []
    },
    {
      "cell_type": "code",
      "source": [
        "?ImageDataGenerator"
      ],
      "metadata": {
        "id": "52ti7pSDyBBj"
      },
      "execution_count": 18,
      "outputs": []
    },
    {
      "cell_type": "code",
      "source": [
        "# Выполним Аугментацию\n",
        "image_gen_aug = ImageDataGenerator(\n",
        "      rescale=1./255,\n",
        "      rotation_range=10,  # максимальный угол поворота\n",
        "      width_shift_range=0.2, # смещение максимум на 20% ширины по горизонтали\n",
        "      height_shift_range=0.2, # смещение максимум на 20% высоты по вертикали\n",
        "      zoom_range=0.2, # картинка будет увеличена или уменьшена не более чем на 20% \n",
        "      horizontal_flip=False, # случайное отражение по горизонтали\n",
        "      vertical_flip=False, # случайное отражение по вертикали\n",
        "      fill_mode=\"nearest\", # чем заполнять пробелы -- сначала выберем черный цвет, а потом изменим на \"nearest\"\n",
        "      #cval=0,\n",
        "      ) \n",
        "\n",
        "\n",
        "sample_aug = image_gen_aug.flow_from_directory(batch_size=BATCH_SIZE,\n",
        "                                                     directory=train_dir,\n",
        "                                                     shuffle=False,\n",
        "                                                     target_size=(IMG_SHAPE,IMG_SHAPE),\n",
        "                                                     class_mode='binary')\n"
      ],
      "metadata": {
        "id": "Q7OZ8dTQzCa7"
      },
      "execution_count": null,
      "outputs": []
    },
    {
      "cell_type": "code",
      "source": [
        "# Тренировочные и валидационные данные\n",
        "train_data_gen = train_image_generator.flow_from_directory(batch_size=BATCH_SIZE,\n",
        "                                                           directory=train_dir,\n",
        "                                                           shuffle=True,\n",
        "                                                           target_size=(IMG_SHAPE,IMG_SHAPE), \n",
        "                                                           class_mode='binary')\n",
        "\n",
        "val_data_gen = validation_image_generator.flow_from_directory(batch_size=BATCH_SIZE,\n",
        "                                                              directory=validation_dir,\n",
        "                                                              shuffle=False,\n",
        "                                                              target_size=(IMG_SHAPE,IMG_SHAPE), \n",
        "                                                              class_mode='binary')"
      ],
      "metadata": {
        "id": "vLJ7Paj2w3fe"
      },
      "execution_count": null,
      "outputs": []
    },
    {
      "cell_type": "code",
      "source": [
        "def show_catsdogs(images, labels, predicted_labels=None):\n",
        "    names = {0: \"Cat\", 1: \"Dog\"}\n",
        "    plt.figure(figsize=(10,10))\n",
        "    for i in range(16):\n",
        "        plt.subplot(4,4, i+1)\n",
        "        plt.xticks([])\n",
        "        plt.yticks([])\n",
        "        plt.grid(False)\n",
        "        plt.imshow(images[i], cmap=plt.cm.gray)\n",
        "        if predicted_labels is not None:\n",
        "            title_obj = plt.title(f\"Real: {names[labels[i]]}. Pred: {names[predicted_labels[i]]}\")\n",
        "            if labels[i] != predicted_labels[i]:\n",
        "                plt.setp(title_obj, color='r')\n",
        "        else:\n",
        "            plt.title(f\"Real label: {names[labels[i]]}\")"
      ],
      "metadata": {
        "id": "LSKjRLnoxoda"
      },
      "execution_count": null,
      "outputs": []
    },
    {
      "cell_type": "markdown",
      "source": [
        "#3. Модель #1"
      ],
      "metadata": {
        "id": "Hg_Jy99XDZ24"
      }
    },
    {
      "cell_type": "markdown",
      "source": [
        "В ходе выполнения работы придерживаемся следующих правил по оптимизации времения выполнения сети:\n",
        "1) Оптимизация модели при обучении:\n",
        "   * 1.1)  От простой модели к сложной.\n",
        "   * 1.2) Не заставлять учить то, что задается явно.\n",
        "   * 1.3) Понизить ширину сети за счет Conv(1х1).\n",
        "   * 1.4) Заменить Conv+Pool2D на Strided Conv.\n",
        "   * 1.5) Использовать активацию Relu по возможности.\n",
        "   * 1.6) Количество карт признаков делать кратным 8.\n",
        "   * 1.7) Применить поканальную сепарабельную свертку (Depth-wise separable Conv).\n",
        "   * 1.8) Применить Прореживание (Puring).\n",
        "   * 1.9) Другое... \n",
        "\n",
        "2) Оптимизация модели после обучения: с помощью TensorRT"
      ],
      "metadata": {
        "id": "efyS1Ka4FQms"
      }
    },
    {
      "cell_type": "code",
      "source": [
        "model_1 = tf.keras.Sequential()\n",
        "model_1 .add(tf.keras.layers.Conv2D(filters=32, kernel_size=(3,3),\n",
        "                                 padding='same', activation='relu',\n",
        "                                 input_shape=(IMG_SHAPE,IMG_SHAPE,3),\n",
        "                                 strides=(2,2)))\n",
        "model_1 .add(tf.keras.layers.Conv2D(filters=64, kernel_size=(3,3),\n",
        "                                 padding='same', activation='relu',\n",
        "                                 strides=(2,2)))\n",
        "model_1 .add(tf.keras.layers.Conv2D(filters=128, kernel_size=(3,3),\n",
        "                                 padding='same', activation='relu',\n",
        "                                 strides=(2,2)))\n",
        "model_1 .add(tf.keras.layers.Conv2D(filters=128, kernel_size=(3,3),\n",
        "                                 padding='same', activation='relu',\n",
        "                                 strides=(2,2)))\n",
        "model_1 .add(tf.keras.layers.Flatten())\n",
        "model_1 .add(tf.keras.layers.Dense(128, activation='relu'))\n",
        "model_1 .add(tf.keras.layers.Dense(1, activation='softmax'))\n",
        "model_1.summary()"
      ],
      "metadata": {
        "id": "s7Sflvsp7Fmy",
        "colab": {
          "base_uri": "https://localhost:8080/"
        },
        "outputId": "162811d9-38e7-453a-a758-efcf4688674c"
      },
      "execution_count": 16,
      "outputs": [
        {
          "output_type": "stream",
          "name": "stdout",
          "text": [
            "Model: \"sequential_1\"\n",
            "_________________________________________________________________\n",
            " Layer (type)                Output Shape              Param #   \n",
            "=================================================================\n",
            " conv2d (Conv2D)             (None, 75, 75, 32)        896       \n",
            "                                                                 \n",
            " conv2d_1 (Conv2D)           (None, 38, 38, 64)        18496     \n",
            "                                                                 \n",
            " conv2d_2 (Conv2D)           (None, 19, 19, 128)       73856     \n",
            "                                                                 \n",
            " conv2d_3 (Conv2D)           (None, 10, 10, 128)       147584    \n",
            "                                                                 \n",
            " flatten (Flatten)           (None, 12800)             0         \n",
            "                                                                 \n",
            " dense (Dense)               (None, 128)               1638528   \n",
            "                                                                 \n",
            " dense_1 (Dense)             (None, 1)                 129       \n",
            "                                                                 \n",
            "=================================================================\n",
            "Total params: 1,879,489\n",
            "Trainable params: 1,879,489\n",
            "Non-trainable params: 0\n",
            "_________________________________________________________________\n"
          ]
        }
      ]
    },
    {
      "cell_type": "code",
      "source": [],
      "metadata": {
        "id": "miMwc8x07FpI"
      },
      "execution_count": null,
      "outputs": []
    },
    {
      "cell_type": "code",
      "source": [],
      "metadata": {
        "id": "n9lLGVFZE1vw"
      },
      "execution_count": null,
      "outputs": []
    },
    {
      "cell_type": "code",
      "source": [
        "\n",
        "\n"
      ],
      "metadata": {
        "id": "4wB1iK_pE2HK"
      },
      "execution_count": null,
      "outputs": []
    },
    {
      "cell_type": "markdown",
      "source": [
        "#3.1 Проверим время работы одного прохода нейронной сети"
      ],
      "metadata": {
        "id": "1fWKQoK0E5e-"
      }
    },
    {
      "cell_type": "code",
      "source": [
        "%%timeit -n 10 -r 10\n",
        "q_opt = model_opt_3(np.random.rand(1, inp_size, inp_size, 3).astype(np.float32))"
      ],
      "metadata": {
        "id": "lRPmyw7kE9NS"
      },
      "execution_count": null,
      "outputs": []
    },
    {
      "cell_type": "markdown",
      "source": [
        "## 3.2. Обучение модели"
      ],
      "metadata": {
        "id": "dZBjOklbDjjN"
      }
    },
    {
      "cell_type": "code",
      "source": [
        "# указанными параметрами спустя 30 эпох вы увидите точность около 75%. \n",
        "# если вас что-то насторожит в графиках, запомните это, это нормально :)\n",
        "EPOCHS = 30\n",
        "history = model.fit_generator(\n",
        "    train_data_gen,\n",
        "    epochs=EPOCHS,\n",
        "    validation_data=val_data_gen,\n",
        "    callbacks=[PlotLossesCallback()]) # мы добавили коллбек для отрисовки прогресса"
      ],
      "metadata": {
        "id": "pxvp4MIqDn01"
      },
      "execution_count": null,
      "outputs": []
    },
    {
      "cell_type": "code",
      "source": [],
      "metadata": {
        "id": "ZzZbxNGy6mlh"
      },
      "execution_count": null,
      "outputs": []
    },
    {
      "cell_type": "markdown",
      "source": [],
      "metadata": {
        "id": "f1oiq8Ig_buJ"
      }
    },
    {
      "cell_type": "markdown",
      "source": [
        "# 4. Модель #2 - с применением Fine-Tuning\n",
        "За основу возьмем сеть VGG19, обученную на ImageNet"
      ],
      "metadata": {
        "id": "tmHTLfiC6ntL"
      }
    },
    {
      "cell_type": "code",
      "source": [
        "model_vgg19 = tf.keras.applications.VGG19(weights='imagenet')  "
      ],
      "metadata": {
        "id": "FoK-kD1F6l64"
      },
      "execution_count": 19,
      "outputs": []
    },
    {
      "cell_type": "code",
      "source": [
        "# Заморозим модель\n",
        "model_vgg19.trainable = False\n",
        "# Возьмем все слои кроме нескольких последних\n",
        "\n",
        "#Дополним модель своими слоями\n",
        "model_2 = tf.keras.Sequential([model_vgg19])"
      ],
      "metadata": {
        "id": "PSBU99TS9czx"
      },
      "execution_count": null,
      "outputs": []
    },
    {
      "cell_type": "markdown",
      "source": [
        "#5. Оптимизация модели"
      ],
      "metadata": {
        "id": "GzjWZ26lFIpI"
      }
    },
    {
      "cell_type": "code",
      "source": [],
      "metadata": {
        "id": "-0BmUAdcFMQi"
      },
      "execution_count": null,
      "outputs": []
    },
    {
      "cell_type": "code",
      "source": [],
      "metadata": {
        "id": "2qyvObQs2WkN"
      },
      "execution_count": null,
      "outputs": []
    },
    {
      "cell_type": "markdown",
      "source": [
        "# 6. Проведите эксперименты с valence-arousal разложением эмоций, когда модель обучается не на самих эмоциях, а на их разложении по этим двум компонентам"
      ],
      "metadata": {
        "id": "5YL4EfDa2X2p"
      }
    }
  ]
}